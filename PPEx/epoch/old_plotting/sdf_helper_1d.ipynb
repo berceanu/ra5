{
 "cells": [
  {
   "cell_type": "markdown",
   "metadata": {},
   "source": [
    "### Import needed libraries"
   ]
  },
  {
   "cell_type": "code",
   "execution_count": null,
   "metadata": {},
   "outputs": [],
   "source": [
    "# library provided by EPOCH for reading .sdf output files into Python\n",
    "import sdf_helper as sh\n",
    "\n",
    "# python plotting library similar to MATLAB(TM)\n",
    "import matplotlib.pyplot as plt\n",
    "from mpl_toolkits.axes_grid1 import make_axes_locatable\n",
    "\n",
    "# signal processing, needed for convolution\n",
    "from scipy import signal\n",
    "\n",
    "# Python array manipulation\n",
    "import numpy as np\n",
    "\n",
    "# various math functions \n",
    "import math as m"
   ]
  },
  {
   "cell_type": "code",
   "execution_count": null,
   "metadata": {},
   "outputs": [],
   "source": [
    "# show plots in the notebook\n",
    "%matplotlib inline"
   ]
  },
  {
   "cell_type": "markdown",
   "metadata": {},
   "source": [
    "### Define useful functions"
   ]
  },
  {
   "cell_type": "code",
   "execution_count": null,
   "metadata": {},
   "outputs": [],
   "source": [
    "from collections import OrderedDict"
   ]
  },
  {
   "cell_type": "code",
   "execution_count": null,
   "metadata": {},
   "outputs": [],
   "source": [
    "def get_sdf_files(path):\n",
    "    r\"\"\"Given a ``path``, it returns an ordered dictionary containing all the .sdf files in that path, \n",
    "    in the form {#### : /../../####.sdf}\"\"\"\n",
    "    \n",
    "    sdfs = glob.glob(os.path.join(path, '*.sdf')) \n",
    "    sdf_dict = {int(sdf.split('.')[0][-4:]):sdf for sdf in sdfs}\n",
    "    sdf_ord_dict = OrderedDict(sorted(sdf_dict.items(), key=lambda t: t[1])) \n",
    "    \n",
    "    return sdf_ord_dict"
   ]
  },
  {
   "cell_type": "code",
   "execution_count": null,
   "metadata": {},
   "outputs": [],
   "source": [
    "def center_linspace(space):\n",
    "    r\"\"\"\n",
    "    \n",
    "    Parameters\n",
    "    ----------\n",
    "    space : ndarray\n",
    "        A one-dimensional array, of linearly spaced numbers. \n",
    "    \n",
    "    Returns\n",
    "    -------\n",
    "    out : ndarray\n",
    "        Also an array of the same spacing, this time centered around 0.\n",
    "    \"\"\"\n",
    "    \n",
    "    assert np.ndim(space) == 1\n",
    "    size = space.size\n",
    "    first = space[0]\n",
    "    last = space[-1]\n",
    "    length = last - first\n",
    "    end = length/2\n",
    "    \n",
    "    _, step = np.linspace(first, last, size, retstep=True)\n",
    "    \n",
    "    out, out_step = np.linspace(-end, end, size, retstep=True) \n",
    "    assert m.isclose(out_step, step)\n",
    "    return out"
   ]
  },
  {
   "cell_type": "code",
   "execution_count": null,
   "metadata": {},
   "outputs": [],
   "source": [
    "def list_sdf_variables(data):\n",
    "    r\"\"\"Lists all the quantities from the .sdf file.\n",
    "    \n",
    "    Parameters\n",
    "    ----------\n",
    "    data : ``sdf.Blocklist``\n",
    "        The results of calling sdf.read on an .sdf file.\n",
    "    \"\"\"\n",
    "    dct = data.__dict__\n",
    "    for key in sorted(dct):\n",
    "        try:\n",
    "            val = dct[key]\n",
    "            print('{} {} {}'.format(key, type(val),\n",
    "                  np.array2string(np.array(val.dims), separator=', ')))\n",
    "        except:\n",
    "            pass"
   ]
  },
  {
   "cell_type": "code",
   "execution_count": null,
   "metadata": {},
   "outputs": [],
   "source": [
    "def colorbar(mappable):\n",
    "    r\"\"\"Constructs a scaled colorbar for a given plot.\n",
    "    \n",
    "    Parameters\n",
    "    ----------\n",
    "    mappable : The Image, ContourSet, etc. to which the colorbar applies.\n",
    "    \"\"\"\n",
    "    ax = mappable.axes\n",
    "    fig = ax.figure\n",
    "    divider = make_axes_locatable(ax)\n",
    "    cax = divider.append_axes(\"right\", size=\"5%\", pad=0.05)\n",
    "    return fig.colorbar(mappable, cax=cax)"
   ]
  },
  {
   "cell_type": "code",
   "execution_count": null,
   "metadata": {},
   "outputs": [],
   "source": [
    "def gauss_kern_nd(n, sizes):\n",
    "    r\"\"\"Constructs a Gaussian kernel in any number of dimensions.\n",
    "    \n",
    "    Parameters\n",
    "    ----------\n",
    "    n : int\n",
    "        The number of dimensions. Must be 1 or above.\n",
    "    sizes : list\n",
    "        The sizes along the various dimensions, ie. in 3D this would be [size_x, size_y, size_x]. The length of\n",
    "        this list should be either 1 or n. If it only contains one element, eg. [size], it is assumed that\n",
    "        size_x = size_y = size_x = size.\n",
    "    \n",
    "    Returns\n",
    "    -------\n",
    "    g : ndarray\n",
    "        The kernel, with dimensions (in 3d) (2*size_x+1, 2*size_y+1, 2*size_z+1).\n",
    "    \"\"\"\n",
    "    assert n > 0, 'at least 1d required'\n",
    "    no_sizes = len(sizes)\n",
    "    assert no_sizes == 1 or no_sizes == n, 'either give one size or all of them'\n",
    "    \n",
    "    for i in range(n - no_sizes):\n",
    "        sizes.append(sizes[0])\n",
    "        \n",
    "    slices = tuple(slice(-size,size+1,None) for size in sizes)\n",
    "    \n",
    "    XXX = np.mgrid[slices]\n",
    "    \n",
    "    g = np.ones(XXX.shape[1:], dtype=np.float64)\n",
    "    \n",
    "    for X, size in zip(XXX, sizes):\n",
    "        g = g * np.exp(-X**2/size)\n",
    "        \n",
    "    return g / g.sum()"
   ]
  },
  {
   "cell_type": "code",
   "execution_count": null,
   "metadata": {},
   "outputs": [],
   "source": [
    "def smooth(data, n, sizes):\n",
    "    r\"\"\"Smoothens the input by performing a convolution with a Gaussian kernel.\n",
    "    \n",
    "    Parameters\n",
    "    ----------\n",
    "    data : ndarray\n",
    "        Input data, with ``n`` dimensions.\n",
    "    n : int\n",
    "        The number of dimensions. Must be 1 or above.\n",
    "    sizes : list\n",
    "        The sizes along the various dimensions, ie. in 3D this would be [size_x, size_y, size_x]. The length of\n",
    "        this list should be either 1 or n. If it only contains one element, eg. [size], it is assumed that\n",
    "        size_x = size_y = size_x = size.\n",
    "        \n",
    "    Returns\n",
    "    -------\n",
    "    out : ndarray\n",
    "        The smoothed input, of shape ```data.shape - 2 * sizes```.\n",
    "    \"\"\"\n",
    "    \n",
    "    g = gauss_kern_nd(n, sizes)\n",
    "    out = signal.convolve(data, g, mode='valid')\n",
    "    return(out)"
   ]
  },
  {
   "cell_type": "markdown",
   "metadata": {},
   "source": [
    "bash console commands can be run inside the notebook, eg."
   ]
  },
  {
   "cell_type": "markdown",
   "metadata": {},
   "source": [
    "The following code will download the data needed for this notebook automatically using `curl`. It may take some time (the archive is 1.2 GB), so please wait when the kernel is busy. You will need to set `download_datasets` to `True` before using it."
   ]
  },
  {
   "cell_type": "code",
   "execution_count": null,
   "metadata": {},
   "outputs": [],
   "source": [
    "download_datasets = False\n",
    "if download_datasets:\n",
    "    !curl -sSO https://ndownloader.figshare.com/articles/5545165/versions/1\n",
    "    print (\"Downloaded the EPOCH data from figshare.\")\n",
    "    !unzip 1 \n",
    "    \n",
    "    print (\"All done!\")"
   ]
  },
  {
   "cell_type": "code",
   "execution_count": null,
   "metadata": {},
   "outputs": [],
   "source": [
    "# these are the .sdf files used in the notebook. they must be present in the same folder when the notebook is run\n",
    "!ls -lsa *.sdf"
   ]
  },
  {
   "cell_type": "code",
   "execution_count": null,
   "metadata": {},
   "outputs": [],
   "source": [
    "# these are the corresponding EPOCH input decks\n",
    "!ls -lsa *.deck"
   ]
  },
  {
   "cell_type": "markdown",
   "metadata": {},
   "source": [
    "# 1D case"
   ]
  },
  {
   "cell_type": "code",
   "execution_count": null,
   "metadata": {},
   "outputs": [],
   "source": [
    "!cat 1dinput.deck"
   ]
  },
  {
   "cell_type": "markdown",
   "metadata": {},
   "source": [
    "For the 1D case, we just use `numpy` and `matplolib` for low-level plotting and data analysis."
   ]
  },
  {
   "cell_type": "code",
   "execution_count": null,
   "metadata": {},
   "outputs": [],
   "source": [
    "# load the sdf file produced by EPOCH\n",
    "fname = '1d.sdf'\n",
    "data_1d = sh.getdata(fname);"
   ]
  },
  {
   "cell_type": "code",
   "execution_count": null,
   "metadata": {},
   "outputs": [],
   "source": [
    "sh.list_variables(data_1d)"
   ]
  },
  {
   "cell_type": "code",
   "execution_count": null,
   "metadata": {},
   "outputs": [],
   "source": [
    "# assign separate variables to the various quantities we want to look at\n",
    "grid = data_1d.Grid_Grid_mid\n",
    "nele = data_1d.Derived_Number_Density_ele\n",
    "ex = data_1d.Electric_Field_Ex\n",
    "ey = data_1d.Electric_Field_Ey"
   ]
  },
  {
   "cell_type": "code",
   "execution_count": null,
   "metadata": {},
   "outputs": [],
   "source": [
    "sh.plot_auto(nele)"
   ]
  },
  {
   "cell_type": "code",
   "execution_count": null,
   "metadata": {},
   "outputs": [],
   "source": [
    "# the .data attribute contains the raw data we need to plot\n",
    "(x,) = grid.data\n",
    "# convert to micrometers\n",
    "x = x*1e6\n",
    "\n",
    "rho = nele.data"
   ]
  },
  {
   "cell_type": "code",
   "execution_count": null,
   "metadata": {},
   "outputs": [],
   "source": [
    "# define size of Gaussian kernel used for noise reduction\n",
    "kern_size = 100\n",
    "rho_smooth = smooth(rho, 1, [kern_size])"
   ]
  },
  {
   "cell_type": "code",
   "execution_count": null,
   "metadata": {},
   "outputs": [],
   "source": [
    "fig, axes = plt.subplots(ncols=2, figsize=[14,3])\n",
    "\n",
    "axes[0].plot(x, rho)\n",
    "axes[1].plot(x[kern_size:-kern_size], rho_smooth)\n",
    "\n",
    "axes[0].set_title('raw data')\n",
    "axes[1].set_title('after convolution with Gaussian kernel')\n",
    "\n",
    "for ax in axes:\n",
    "    # the labels and units were contained in the .sdf file\n",
    "    ax.set_xlabel(nele.grid_mid.labels[0] + r' $(\\mu m)$', labelpad=-1)\n",
    "    ax.set_ylabel(nele.name + r' $(' + nele.units + r')$');\n",
    "\n",
    "plt.tight_layout(h_pad=1)\n",
    "\n",
    "# saves the generated figure to disk in the same folder that the notebook is ran from\n",
    "fig.savefig('1d_rho.png')"
   ]
  },
  {
   "cell_type": "code",
   "execution_count": null,
   "metadata": {},
   "outputs": [],
   "source": [
    "sh.plot_auto(ex)"
   ]
  },
  {
   "cell_type": "code",
   "execution_count": null,
   "metadata": {},
   "outputs": [],
   "source": [
    "sh.plot_auto(ey)"
   ]
  },
  {
   "cell_type": "code",
   "execution_count": null,
   "metadata": {},
   "outputs": [],
   "source": [
    "fig, axes = plt.subplots(ncols=2, figsize=[14,3])\n",
    "\n",
    "for ax, ef in zip(axes, (ex.data, ey.data)):\n",
    "    ax.plot(x, ef)\n",
    "\n",
    "for ax, electric in zip(axes, (ex, ey)):\n",
    "    ax.set_xlabel(electric.grid_mid.labels[0] + r' $(\\mu m)$', labelpad=-1)\n",
    "    ax.set_ylabel(electric.name + r' $(' + electric.units + r')$');\n",
    "\n",
    "fig.suptitle('components of the electric field')\n",
    "plt.tight_layout(h_pad=1)"
   ]
  },
  {
   "cell_type": "code",
   "execution_count": null,
   "metadata": {},
   "outputs": [],
   "source": []
  }
 ],
 "metadata": {
  "kernelspec": {
   "display_name": "Python 3",
   "language": "python",
   "name": "python3"
  },
  "language_info": {
   "codemirror_mode": {
    "name": "ipython",
    "version": 3
   },
   "file_extension": ".py",
   "mimetype": "text/x-python",
   "name": "python",
   "nbconvert_exporter": "python",
   "pygments_lexer": "ipython3",
   "version": "3.6.4"
  },
  "widgets": {
   "application/vnd.jupyter.widget-state+json": {
    "state": {},
    "version_major": 1,
    "version_minor": 0
   }
  }
 },
 "nbformat": 4,
 "nbformat_minor": 2
}
