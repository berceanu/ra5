{
 "cells": [
  {
   "cell_type": "markdown",
   "metadata": {},
   "source": [
    "### Import needed libraries"
   ]
  },
  {
   "cell_type": "code",
   "execution_count": null,
   "metadata": {},
   "outputs": [],
   "source": [
    "# library provided by EPOCH for reading .sdf output files into Python\n",
    "import sdf_helper as sh\n",
    "\n",
    "# python plotting library similar to MATLAB(TM)\n",
    "import matplotlib.pyplot as plt\n",
    "from mpl_toolkits.axes_grid1 import make_axes_locatable\n",
    "\n",
    "# signal processing, needed for convolution\n",
    "from scipy import signal\n",
    "\n",
    "# Python array manipulation\n",
    "import numpy as np\n",
    "\n",
    "# various math functions \n",
    "import math as m"
   ]
  },
  {
   "cell_type": "code",
   "execution_count": null,
   "metadata": {},
   "outputs": [],
   "source": [
    "# show plots in the notebook\n",
    "%matplotlib inline"
   ]
  },
  {
   "cell_type": "markdown",
   "metadata": {},
   "source": [
    "### Define useful functions"
   ]
  },
  {
   "cell_type": "code",
   "execution_count": null,
   "metadata": {},
   "outputs": [],
   "source": [
    "from collections import OrderedDict"
   ]
  },
  {
   "cell_type": "code",
   "execution_count": null,
   "metadata": {},
   "outputs": [],
   "source": [
    "def list_sdf_variables(data):\n",
    "    r\"\"\"Lists all the quantities from the .sdf file.\n",
    "    \n",
    "    Parameters\n",
    "    ----------\n",
    "    data : ``sdf.Blocklist``\n",
    "        The results of calling sdf.read on an .sdf file.\n",
    "    \"\"\"\n",
    "    dct = data.__dict__\n",
    "    for key in sorted(dct):\n",
    "        try:\n",
    "            val = dct[key]\n",
    "            print('{} {} {}'.format(key, type(val),\n",
    "                  np.array2string(np.array(val.dims), separator=', ')))\n",
    "        except:\n",
    "            pass"
   ]
  },
  {
   "cell_type": "markdown",
   "metadata": {},
   "source": [
    "bash console commands can be run inside the notebook, eg."
   ]
  },
  {
   "cell_type": "markdown",
   "metadata": {},
   "source": [
    "The following code will download the data needed for this notebook automatically using `curl`. It may take some time (the archive is 1.2 GB), so please wait when the kernel is busy. You will need to set `download_datasets` to `True` before using it."
   ]
  },
  {
   "cell_type": "code",
   "execution_count": null,
   "metadata": {},
   "outputs": [],
   "source": [
    "download_datasets = False\n",
    "if download_datasets:\n",
    "    !curl -sSO https://ndownloader.figshare.com/articles/5545165/versions/1\n",
    "    print (\"Downloaded the EPOCH data from figshare.\")\n",
    "    !unzip 1 \n",
    "    \n",
    "    print (\"All done!\")"
   ]
  },
  {
   "cell_type": "code",
   "execution_count": null,
   "metadata": {},
   "outputs": [],
   "source": [
    "# these are the .sdf files used in the notebook. they must be present in the same folder when the notebook is run\n",
    "!ls -lsa *.sdf"
   ]
  },
  {
   "cell_type": "code",
   "execution_count": null,
   "metadata": {},
   "outputs": [],
   "source": [
    "# these are the corresponding EPOCH input decks\n",
    "!ls -lsa *.deck"
   ]
  },
  {
   "cell_type": "markdown",
   "metadata": {},
   "source": [
    "# 1D case"
   ]
  },
  {
   "cell_type": "code",
   "execution_count": null,
   "metadata": {},
   "outputs": [],
   "source": [
    "!cat 1dinput.deck"
   ]
  },
  {
   "cell_type": "markdown",
   "metadata": {},
   "source": [
    "For the 1D case, we just use `numpy` and `matplolib` for low-level plotting and data analysis."
   ]
  },
  {
   "cell_type": "code",
   "execution_count": null,
   "metadata": {},
   "outputs": [],
   "source": [
    "# load the sdf file produced by EPOCH\n",
    "fname = '1d.sdf'\n",
    "data_1d = sh.getdata(fname);"
   ]
  },
  {
   "cell_type": "code",
   "execution_count": null,
   "metadata": {},
   "outputs": [],
   "source": [
    "sh.list_variables(data_1d)"
   ]
  },
  {
   "cell_type": "code",
   "execution_count": null,
   "metadata": {},
   "outputs": [],
   "source": [
    "# assign separate variables to the various quantities we want to look at\n",
    "grid = data_1d.Grid_Grid_mid\n",
    "nele = data_1d.Derived_Number_Density_ele\n",
    "ex = data_1d.Electric_Field_Ex\n",
    "ey = data_1d.Electric_Field_Ey"
   ]
  },
  {
   "cell_type": "code",
   "execution_count": null,
   "metadata": {},
   "outputs": [],
   "source": [
    "sh.plot_auto(nele)"
   ]
  },
  {
   "cell_type": "code",
   "execution_count": null,
   "metadata": {},
   "outputs": [],
   "source": [
    "# the .data attribute contains the raw data we need to plot\n",
    "(x,) = grid.data\n",
    "# convert to micrometers\n",
    "x = x*1e6\n",
    "\n",
    "rho = nele.data"
   ]
  },
  {
   "cell_type": "code",
   "execution_count": null,
   "metadata": {},
   "outputs": [],
   "source": [
    "# define size of Gaussian kernel used for noise reduction\n",
    "kern_size = 100\n",
    "rho_smooth = smooth(rho, 1, [kern_size])"
   ]
  },
  {
   "cell_type": "code",
   "execution_count": null,
   "metadata": {},
   "outputs": [],
   "source": [
    "fig, axes = plt.subplots(ncols=2, figsize=[14,3])\n",
    "\n",
    "axes[0].plot(x, rho)\n",
    "axes[1].plot(x[kern_size:-kern_size], rho_smooth)\n",
    "\n",
    "axes[0].set_title('raw data')\n",
    "axes[1].set_title('after convolution with Gaussian kernel')\n",
    "\n",
    "for ax in axes:\n",
    "    # the labels and units were contained in the .sdf file\n",
    "    ax.set_xlabel(nele.grid_mid.labels[0] + r' $(\\mu m)$', labelpad=-1)\n",
    "    ax.set_ylabel(nele.name + r' $(' + nele.units + r')$');\n",
    "\n",
    "plt.tight_layout(h_pad=1)\n",
    "\n",
    "# saves the generated figure to disk in the same folder that the notebook is ran from\n",
    "fig.savefig('1d_rho.png')"
   ]
  },
  {
   "cell_type": "code",
   "execution_count": null,
   "metadata": {},
   "outputs": [],
   "source": [
    "sh.plot_auto(ex)"
   ]
  },
  {
   "cell_type": "code",
   "execution_count": null,
   "metadata": {},
   "outputs": [],
   "source": [
    "sh.plot_auto(ey)"
   ]
  },
  {
   "cell_type": "code",
   "execution_count": null,
   "metadata": {},
   "outputs": [],
   "source": [
    "fig, axes = plt.subplots(ncols=2, figsize=[14,3])\n",
    "\n",
    "for ax, ef in zip(axes, (ex.data, ey.data)):\n",
    "    ax.plot(x, ef)\n",
    "\n",
    "for ax, electric in zip(axes, (ex, ey)):\n",
    "    ax.set_xlabel(electric.grid_mid.labels[0] + r' $(\\mu m)$', labelpad=-1)\n",
    "    ax.set_ylabel(electric.name + r' $(' + electric.units + r')$');\n",
    "\n",
    "fig.suptitle('components of the electric field')\n",
    "plt.tight_layout(h_pad=1)"
   ]
  },
  {
   "cell_type": "code",
   "execution_count": null,
   "metadata": {},
   "outputs": [],
   "source": []
  }
 ],
 "metadata": {
  "kernelspec": {
   "display_name": "Python 3",
   "language": "python",
   "name": "python3"
  },
  "language_info": {
   "codemirror_mode": {
    "name": "ipython",
    "version": 3
   },
   "file_extension": ".py",
   "mimetype": "text/x-python",
   "name": "python",
   "nbconvert_exporter": "python",
   "pygments_lexer": "ipython3",
   "version": "3.6.4"
  },
  "widgets": {
   "application/vnd.jupyter.widget-state+json": {
    "state": {},
    "version_major": 1,
    "version_minor": 0
   }
  }
 },
 "nbformat": 4,
 "nbformat_minor": 2
}
