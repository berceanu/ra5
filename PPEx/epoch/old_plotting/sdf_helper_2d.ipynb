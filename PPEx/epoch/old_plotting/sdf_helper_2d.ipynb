{
 "cells": [
  {
   "cell_type": "markdown",
   "metadata": {},
   "source": [
    "### Import needed libraries"
   ]
  },
  {
   "cell_type": "code",
   "execution_count": null,
   "metadata": {},
   "outputs": [],
   "source": [
    "# library provided by EPOCH for reading .sdf output files into Python\n",
    "import sdf_helper as sh \n",
    "\n",
    "# python plotting library similar to MATLAB(TM)\n",
    "import matplotlib.pyplot as plt\n",
    "from mpl_toolkits.axes_grid1 import make_axes_locatable\n",
    "\n",
    "# signal processing, needed for convolution\n",
    "from scipy import signal\n",
    "\n",
    "# Python array manipulation\n",
    "import numpy as np\n",
    "\n",
    "# various math functions \n",
    "import math as m"
   ]
  },
  {
   "cell_type": "code",
   "execution_count": null,
   "metadata": {},
   "outputs": [],
   "source": [
    "# show plots in the notebook\n",
    "%matplotlib inline"
   ]
  },
  {
   "cell_type": "markdown",
   "metadata": {},
   "source": [
    "### Define useful functions"
   ]
  },
  {
   "cell_type": "code",
   "execution_count": null,
   "metadata": {},
   "outputs": [],
   "source": [
    "from collections import OrderedDict"
   ]
  },
  {
   "cell_type": "code",
   "execution_count": null,
   "metadata": {},
   "outputs": [],
   "source": [
    "def get_sdf_files(path):\n",
    "    r\"\"\"Given a ``path``, it returns an ordered dictionary containing all the .sdf files in that path, \n",
    "    in the form {#### : /../../####.sdf}\"\"\"\n",
    "    \n",
    "    sdfs = glob.glob(os.path.join(path, '*.sdf')) \n",
    "    sdf_dict = {int(sdf.split('.')[0][-4:]):sdf for sdf in sdfs}\n",
    "    sdf_ord_dict = OrderedDict(sorted(sdf_dict.items(), key=lambda t: t[1])) \n",
    "    \n",
    "    return sdf_ord_dict"
   ]
  },
  {
   "cell_type": "code",
   "execution_count": null,
   "metadata": {},
   "outputs": [],
   "source": [
    "def center_linspace(space):\n",
    "    r\"\"\"\n",
    "    \n",
    "    Parameters\n",
    "    ----------\n",
    "    space : ndarray\n",
    "        A one-dimensional array, of linearly spaced numbers. \n",
    "    \n",
    "    Returns\n",
    "    -------\n",
    "    out : ndarray\n",
    "        Also an array of the same spacing, this time centered around 0.\n",
    "    \"\"\"\n",
    "    \n",
    "    assert np.ndim(space) == 1\n",
    "    size = space.size\n",
    "    first = space[0]\n",
    "    last = space[-1]\n",
    "    length = last - first\n",
    "    end = length/2\n",
    "    \n",
    "    _, step = np.linspace(first, last, size, retstep=True)\n",
    "    \n",
    "    out, out_step = np.linspace(-end, end, size, retstep=True) \n",
    "    assert m.isclose(out_step, step)\n",
    "    return out"
   ]
  },
  {
   "cell_type": "code",
   "execution_count": null,
   "metadata": {},
   "outputs": [],
   "source": [
    "def list_sdf_variables(data):\n",
    "    r\"\"\"Lists all the quantities from the .sdf file.\n",
    "    \n",
    "    Parameters\n",
    "    ----------\n",
    "    data : ``sdf.Blocklist``\n",
    "        The results of calling sdf.read on an .sdf file.\n",
    "    \"\"\"\n",
    "    dct = data.__dict__\n",
    "    for key in sorted(dct):\n",
    "        try:\n",
    "            val = dct[key]\n",
    "            print('{} {} {}'.format(key, type(val),\n",
    "                  np.array2string(np.array(val.dims), separator=', ')))\n",
    "        except:\n",
    "            pass"
   ]
  },
  {
   "cell_type": "code",
   "execution_count": null,
   "metadata": {},
   "outputs": [],
   "source": [
    "def colorbar(mappable):\n",
    "    r\"\"\"Constructs a scaled colorbar for a given plot.\n",
    "    \n",
    "    Parameters\n",
    "    ----------\n",
    "    mappable : The Image, ContourSet, etc. to which the colorbar applies.\n",
    "    \"\"\"\n",
    "    ax = mappable.axes\n",
    "    fig = ax.figure\n",
    "    divider = make_axes_locatable(ax)\n",
    "    cax = divider.append_axes(\"right\", size=\"5%\", pad=0.05)\n",
    "    return fig.colorbar(mappable, cax=cax)"
   ]
  },
  {
   "cell_type": "code",
   "execution_count": null,
   "metadata": {},
   "outputs": [],
   "source": [
    "def gauss_kern_nd(n, sizes):\n",
    "    r\"\"\"Constructs a Gaussian kernel in any number of dimensions.\n",
    "    \n",
    "    Parameters\n",
    "    ----------\n",
    "    n : int\n",
    "        The number of dimensions. Must be 1 or above.\n",
    "    sizes : list\n",
    "        The sizes along the various dimensions, ie. in 3D this would be [size_x, size_y, size_x]. The length of\n",
    "        this list should be either 1 or n. If it only contains one element, eg. [size], it is assumed that\n",
    "        size_x = size_y = size_x = size.\n",
    "    \n",
    "    Returns\n",
    "    -------\n",
    "    g : ndarray\n",
    "        The kernel, with dimensions (in 3d) (2*size_x+1, 2*size_y+1, 2*size_z+1).\n",
    "    \"\"\"\n",
    "    assert n > 0, 'at least 1d required'\n",
    "    no_sizes = len(sizes)\n",
    "    assert no_sizes == 1 or no_sizes == n, 'either give one size or all of them'\n",
    "    \n",
    "    for i in range(n - no_sizes):\n",
    "        sizes.append(sizes[0])\n",
    "        \n",
    "    slices = tuple(slice(-size,size+1,None) for size in sizes)\n",
    "    \n",
    "    XXX = np.mgrid[slices]\n",
    "    \n",
    "    g = np.ones(XXX.shape[1:], dtype=np.float64)\n",
    "    \n",
    "    for X, size in zip(XXX, sizes):\n",
    "        g = g * np.exp(-X**2/size)\n",
    "        \n",
    "    return g / g.sum()"
   ]
  },
  {
   "cell_type": "code",
   "execution_count": null,
   "metadata": {},
   "outputs": [],
   "source": [
    "def smooth(data, n, sizes):\n",
    "    r\"\"\"Smoothens the input by performing a convolution with a Gaussian kernel.\n",
    "    \n",
    "    Parameters\n",
    "    ----------\n",
    "    data : ndarray\n",
    "        Input data, with ``n`` dimensions.\n",
    "    n : int\n",
    "        The number of dimensions. Must be 1 or above.\n",
    "    sizes : list\n",
    "        The sizes along the various dimensions, ie. in 3D this would be [size_x, size_y, size_x]. The length of\n",
    "        this list should be either 1 or n. If it only contains one element, eg. [size], it is assumed that\n",
    "        size_x = size_y = size_x = size.\n",
    "        \n",
    "    Returns\n",
    "    -------\n",
    "    out : ndarray\n",
    "        The smoothed input, of shape ```data.shape - 2 * sizes```.\n",
    "    \"\"\"\n",
    "    \n",
    "    g = gauss_kern_nd(n, sizes)\n",
    "    out = signal.convolve(data, g, mode='valid')\n",
    "    return(out)"
   ]
  },
  {
   "cell_type": "markdown",
   "metadata": {},
   "source": [
    "bash console commands can be run inside the notebook, eg."
   ]
  },
  {
   "cell_type": "markdown",
   "metadata": {},
   "source": [
    "The following code will download the data needed for this notebook automatically using `curl`. It may take some time (the archive is 1.2 GB), so please wait when the kernel is busy. You will need to set `download_datasets` to `True` before using it."
   ]
  },
  {
   "cell_type": "code",
   "execution_count": null,
   "metadata": {},
   "outputs": [],
   "source": [
    "download_datasets = False\n",
    "if download_datasets:\n",
    "    !curl -sSO https://ndownloader.figshare.com/articles/5545165/versions/1\n",
    "    print (\"Downloaded the EPOCH data from figshare.\")\n",
    "    !unzip 1 \n",
    "    \n",
    "    print (\"All done!\")"
   ]
  },
  {
   "cell_type": "code",
   "execution_count": null,
   "metadata": {},
   "outputs": [],
   "source": [
    "# these are the .sdf files used in the notebook. they must be present in the same folder when the notebook is run\n",
    "!ls -lsa *.sdf"
   ]
  },
  {
   "cell_type": "code",
   "execution_count": null,
   "metadata": {},
   "outputs": [],
   "source": [
    "# these are the corresponding EPOCH input decks\n",
    "!ls -lsa *.deck"
   ]
  },
  {
   "cell_type": "markdown",
   "metadata": {},
   "source": [
    "# 2D case"
   ]
  },
  {
   "cell_type": "code",
   "execution_count": null,
   "metadata": {},
   "outputs": [],
   "source": [
    "!cat 2dinput.deck"
   ]
  },
  {
   "cell_type": "markdown",
   "metadata": {},
   "source": [
    "Now we analythe the results from a simple 2D simulation. We use the higher-level library [`holoviews`](http://holoviews.org) for interactive plotting."
   ]
  },
  {
   "cell_type": "code",
   "execution_count": null,
   "metadata": {},
   "outputs": [],
   "source": [
    "fname = '2d.sdf'\n",
    "data_2d = sh.getdata(fname);"
   ]
  },
  {
   "cell_type": "code",
   "execution_count": null,
   "metadata": {
    "scrolled": true
   },
   "outputs": [],
   "source": [
    "sh.list_variables(data_2d)"
   ]
  },
  {
   "cell_type": "code",
   "execution_count": null,
   "metadata": {},
   "outputs": [],
   "source": [
    "grid = data_2d.Grid_Grid_mid\n",
    "nele = data_2d.Derived_Number_Density_ele\n",
    "ex = data_2d.Electric_Field_Ex\n",
    "ey = data_2d.Electric_Field_Ey"
   ]
  },
  {
   "cell_type": "code",
   "execution_count": null,
   "metadata": {},
   "outputs": [],
   "source": [
    "sh.plot_auto(nele)"
   ]
  },
  {
   "cell_type": "code",
   "execution_count": null,
   "metadata": {},
   "outputs": [],
   "source": [
    "(x, y) = grid.data\n",
    "# convert to micrometers\n",
    "x = x*1e+6\n",
    "y = y*1e+6"
   ]
  },
  {
   "cell_type": "code",
   "execution_count": null,
   "metadata": {},
   "outputs": [],
   "source": [
    "# get boundaries of simulation box\n",
    "x_min = np.min(x); x_max = np.max(x)\n",
    "y_min = np.min(y); y_max = np.max(y)"
   ]
  },
  {
   "cell_type": "code",
   "execution_count": null,
   "metadata": {},
   "outputs": [],
   "source": [
    "# note we transpose the raw data \n",
    "rho = nele.data.T\n",
    "\n",
    "# we convolute with a Gaussian kernel of size (30, 30) to reduce the noise\n",
    "kern_size = 30\n",
    "rho_smooth = smooth(nele.data.T, 2, [kern_size])"
   ]
  },
  {
   "cell_type": "code",
   "execution_count": null,
   "metadata": {},
   "outputs": [],
   "source": [
    "fig, axes = plt.subplots(ncols=2, figsize=[14,4])\n",
    "\n",
    "imgs = []\n",
    "for ax, r in zip(axes, (rho, rho_smooth)):\n",
    "    img = ax.imshow(r, origin='lower', interpolation='none',\n",
    "                    extent=np.array([x_min, x_max, y_min, y_max]),\n",
    "                    aspect='auto')\n",
    "    imgs.append(img)\n",
    "\n",
    "axes[0].set_title('raw data')\n",
    "axes[1].set_title('after convolution with Gaussian kernel')\n",
    "\n",
    "for ax in axes:\n",
    "    for axis, label in zip([ax.xaxis, ax.yaxis], nele.grid_mid.labels):\n",
    "        axis.set(label_text=label + r' $(\\mu m)$')\n",
    "\n",
    "# add colorbars to the plots\n",
    "cbars = [colorbar(img) for img in imgs]\n",
    "\n",
    "for cbar in cbars:\n",
    "    cbar.set_label(nele.name + r' $(' + nele.units + r')$')\n",
    "\n",
    "plt.tight_layout(h_pad=1)"
   ]
  },
  {
   "cell_type": "code",
   "execution_count": null,
   "metadata": {},
   "outputs": [],
   "source": [
    "# electric field, x and y components\n",
    "efx = ex.data.T\n",
    "efy = ey.data.T"
   ]
  },
  {
   "cell_type": "code",
   "execution_count": null,
   "metadata": {},
   "outputs": [],
   "source": [
    "fig, axes = plt.subplots(ncols=2, figsize=[14,4])\n",
    "\n",
    "imgs = []\n",
    "for ax, ef in zip(axes, (efx, efy)):\n",
    "    img = ax.imshow(ef, origin='lower', interpolation='none',\n",
    "                    extent=np.array([x_min, x_max, y_min, y_max]),\n",
    "                    aspect='auto')\n",
    "    imgs.append(img)\n",
    "\n",
    "for ax, ef in zip(axes, (ex,ey)):\n",
    "    for axis, label in zip([ax.xaxis, ax.yaxis], ef.grid_mid.labels):\n",
    "        axis.set(label_text=label + r' $(\\mu m)$')\n",
    "\n",
    "# add colorbars to the plots\n",
    "cbars = [colorbar(img) for img in imgs]\n",
    "\n",
    "for cbar, ef in zip(cbars, (ex, ey)):\n",
    "    cbar.set_label(ef.name + r' $(' + ef.units + r')$')\n",
    "\n",
    "plt.tight_layout(h_pad=1)"
   ]
  },
  {
   "cell_type": "code",
   "execution_count": null,
   "metadata": {},
   "outputs": [],
   "source": [
    "# integrate out the x dependence\n",
    "e_sum_x = np.sum(np.abs(efy), axis=1)"
   ]
  },
  {
   "cell_type": "code",
   "execution_count": null,
   "metadata": {},
   "outputs": [],
   "source": [
    "# we get a Gaussian\n",
    "fig, ax = plt.subplots()\n",
    "ax.plot(y, e_sum_x)\n",
    "ax.set_xlabel(ey.grid_mid.labels[1] + r' $(\\mu m)$', labelpad=0)\n",
    "ax.set_ylabel(r'$\\sum_{x} |E_y(x,y)|$ [V/m]');"
   ]
  },
  {
   "cell_type": "code",
   "execution_count": null,
   "metadata": {},
   "outputs": [],
   "source": [
    "# interactive visualization library\n",
    "import holoviews as hv\n",
    "hv.extension('matplotlib')"
   ]
  },
  {
   "cell_type": "code",
   "execution_count": null,
   "metadata": {},
   "outputs": [],
   "source": [
    "# set global plotting and style options for holoviews\n",
    "%opts Image (cmap='viridis') [colorbar=True] Bounds (color='red') HLine (color='red') VLine (color='red')"
   ]
  },
  {
   "cell_type": "markdown",
   "metadata": {},
   "source": [
    "We want to look at the electron density. We first define its dimensions, along with the corresponding units."
   ]
  },
  {
   "cell_type": "code",
   "execution_count": null,
   "metadata": {},
   "outputs": [],
   "source": [
    "xdim = hv.Dimension('x', label='x', unit=r'$\\mu$'+'m')\n",
    "ydim = hv.Dimension('y', label='y', unit=r'$\\mu$'+'m')\n",
    "zdim = hv.Dimension('z', label=nele.name, unit=r'$'+nele.units+r'$')"
   ]
  },
  {
   "cell_type": "code",
   "execution_count": null,
   "metadata": {},
   "outputs": [],
   "source": [
    "# this are the ranges of the axes after the convolution\n",
    "k = kern_size\n",
    "xrange = x[k:-k]\n",
    "yrange = y[k:-k]"
   ]
  },
  {
   "cell_type": "code",
   "execution_count": null,
   "metadata": {},
   "outputs": [],
   "source": [
    "# we load the smoothed electron density into an Image object\n",
    "img = hv.Image((xrange, yrange, rho_smooth), datatype=['grid'], \n",
    "                 kdims=[xdim, ydim], vdims=[zdim])"
   ]
  },
  {
   "cell_type": "code",
   "execution_count": null,
   "metadata": {},
   "outputs": [],
   "source": [
    "# we want to focus on a particular region of the density, defined by these coordinates\n",
    "x1 = xrange[60]; x2 = xrange[-500]\n",
    "y1 = -20; y2 = 20"
   ]
  },
  {
   "cell_type": "code",
   "execution_count": null,
   "metadata": {},
   "outputs": [],
   "source": [
    "# we plot the full image and the region of interest side by side"
   ]
  },
  {
   "cell_type": "code",
   "execution_count": null,
   "metadata": {},
   "outputs": [],
   "source": [
    "%%output size=150\n",
    "img_box = img[x1:x2, y1:y2]\n",
    "box = hv.Bounds((x1,y1,x2,y2))\n",
    "img*box + img_box"
   ]
  },
  {
   "cell_type": "markdown",
   "metadata": {},
   "source": [
    "Now we can define a slice along the `y` axis and interactively move it. "
   ]
  },
  {
   "cell_type": "code",
   "execution_count": null,
   "metadata": {},
   "outputs": [],
   "source": [
    "x_slice = {x : img_box * hv.VLine(x=x) + img_box.sample(x=x) for x in np.linspace(x1, x2, 50)}"
   ]
  },
  {
   "cell_type": "code",
   "execution_count": null,
   "metadata": {},
   "outputs": [],
   "source": [
    "hv.HoloMap(x_slice, kdims=['x']).collate()"
   ]
  },
  {
   "cell_type": "markdown",
   "metadata": {},
   "source": [
    "And of course, we can do the same along `x`."
   ]
  },
  {
   "cell_type": "code",
   "execution_count": null,
   "metadata": {},
   "outputs": [],
   "source": [
    "y_slice = {y : img_box * hv.HLine(y=y) + img_box.sample(y=y) for y in np.linspace(y1, y2, 50)}"
   ]
  },
  {
   "cell_type": "code",
   "execution_count": null,
   "metadata": {},
   "outputs": [],
   "source": [
    "hv.HoloMap(y_slice, kdims=['y']).collate()"
   ]
  },
  {
   "cell_type": "markdown",
   "metadata": {},
   "source": [
    "And we can plot the region of interest, together with the two slices, in one line. Notice `holoviews` automatically knows how to label the plots."
   ]
  },
  {
   "cell_type": "code",
   "execution_count": null,
   "metadata": {},
   "outputs": [],
   "source": [
    "%%output size=150\n",
    "img_box * hv.HLine(y=0.) * hv.VLine(x=787) + img_box.sample(y=0.) + img_box.sample(x=787)"
   ]
  },
  {
   "cell_type": "code",
   "execution_count": null,
   "metadata": {},
   "outputs": [],
   "source": []
  }
 ],
 "metadata": {
  "kernelspec": {
   "display_name": "Python 3",
   "language": "python",
   "name": "python3"
  },
  "language_info": {
   "codemirror_mode": {
    "name": "ipython",
    "version": 3
   },
   "file_extension": ".py",
   "mimetype": "text/x-python",
   "name": "python",
   "nbconvert_exporter": "python",
   "pygments_lexer": "ipython3",
   "version": "3.6.4"
  },
  "widgets": {
   "application/vnd.jupyter.widget-state+json": {
    "state": {},
    "version_major": 1,
    "version_minor": 0
   }
  }
 },
 "nbformat": 4,
 "nbformat_minor": 2
}
