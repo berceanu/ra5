{
 "cells": [
  {
   "cell_type": "code",
   "execution_count": 1,
   "metadata": {
    "attributes": {
     "classes": [],
     "id": "",
     "n": "1"
    }
   },
   "outputs": [],
   "source": [
    "# library provided by EPOCH for reading .sdf output files into Python\n",
    "import sdf_helper as sh\n",
    "import matplotlib.pyplot as plt\n",
    "import numpy as np\n",
    "from collections import OrderedDict"
   ]
  },
  {
   "cell_type": "code",
   "execution_count": 2,
   "metadata": {
    "attributes": {
     "classes": [],
     "id": "",
     "n": "2"
    }
   },
   "outputs": [],
   "source": [
    "# home-grown module\n",
    "import utilities as util"
   ]
  },
  {
   "cell_type": "code",
   "execution_count": 3,
   "metadata": {
    "attributes": {
     "classes": [],
     "id": "",
     "n": "3"
    }
   },
   "outputs": [],
   "source": [
    "# show plots in the notebook\n",
    "%matplotlib inline"
   ]
  },
  {
   "cell_type": "code",
   "execution_count": 4,
   "metadata": {
    "attributes": {
     "classes": [],
     "id": "",
     "n": "4"
    }
   },
   "outputs": [],
   "source": [
    "fname = '3d.sdf'\n",
    "data_3d = sh.getdata(fname, verbose=False);"
   ]
  },
  {
   "cell_type": "code",
   "execution_count": 5,
   "metadata": {
    "attributes": {
     "classes": [],
     "id": "",
     "n": "5"
    }
   },
   "outputs": [
    {
     "name": "stdout",
     "output_type": "stream",
     "text": [
      "CPU_split_N <class 'sdf.BlockPlainVariable'> [129]\n",
      "CPU_split_N1 <class 'sdf.BlockPlainVariable'> [129]\n",
      "CPU_split_N2 <class 'sdf.BlockPlainVariable'> [129]\n",
      "CPU_split_N_ele <class 'sdf.BlockPlainVariable'> [129]\n",
      "CPU_split_ele <class 'sdf.BlockPlainVariable'> [129]\n",
      "CPUs_Current_rank <class 'sdf.BlockPlainVariable'> [0, 0, 0]\n",
      "CPUs_Original_rank <class 'sdf.BlockPlainVariable'> [32,  2,  2]\n",
      "Current_Jx <class 'sdf.BlockPlainVariable'> [1024,   64,   64]\n",
      "Current_Jy <class 'sdf.BlockPlainVariable'> [1024,   64,   64]\n",
      "Current_Jz <class 'sdf.BlockPlainVariable'> [1024,   64,   64]\n",
      "Derived_Number_Density_N_ele <class 'sdf.BlockPlainVariable'> [1024,   64,   64]\n",
      "Derived_Number_Density_ele <class 'sdf.BlockPlainVariable'> [1024,   64,   64]\n",
      "EPOCH_repository_information <class 'sdf.BlockNameValue'> [6]\n",
      "Electric_Field_Ex <class 'sdf.BlockPlainVariable'> [1024,   64,   64]\n",
      "Electric_Field_Ey <class 'sdf.BlockPlainVariable'> [1024,   64,   64]\n",
      "Electric_Field_Ez <class 'sdf.BlockPlainVariable'> [1024,   64,   64]\n",
      "Grid_Grid <class 'sdf.BlockPlainMesh'> [1025,   65,   65]\n",
      "Grid_Grid_mid <class 'sdf.BlockPlainMesh'> [1024,   64,   64]\n",
      "Grid_Particles_N_ele <class 'sdf.BlockPointMesh'> [176219, 176219, 176219]\n",
      "Grid_Particles_ele <class 'sdf.BlockPointMesh'> [98, 98, 98]\n",
      "Magnetic_Field_Bx <class 'sdf.BlockPlainVariable'> [1024,   64,   64]\n",
      "Magnetic_Field_By <class 'sdf.BlockPlainVariable'> [1024,   64,   64]\n",
      "Magnetic_Field_Bz <class 'sdf.BlockPlainVariable'> [1024,   64,   64]\n",
      "Output_File_Sequence_Numbers <class 'sdf.BlockArray'> []\n",
      "Output_File_Stem_Names <class 'sdf.BlockArray'> [32]\n",
      "Particles_Particles_Per_Cell_N <class 'sdf.BlockConstant'> [1]\n",
      "Particles_Particles_Per_Cell_N1 <class 'sdf.BlockConstant'> [1]\n",
      "Particles_Particles_Per_Cell_N2 <class 'sdf.BlockConstant'> [1]\n",
      "Particles_Particles_Per_Cell_N_ele <class 'sdf.BlockConstant'> [1]\n",
      "Particles_Particles_Per_Cell_ele <class 'sdf.BlockConstant'> [1]\n",
      "Particles_Px_N_ele <class 'sdf.BlockPointVariable'> [176219]\n",
      "Particles_Px_ele <class 'sdf.BlockPointVariable'> [98]\n",
      "Particles_Py_N_ele <class 'sdf.BlockPointVariable'> [176219]\n",
      "Particles_Py_ele <class 'sdf.BlockPointVariable'> [98]\n",
      "Particles_Pz_N_ele <class 'sdf.BlockPointVariable'> [176219]\n",
      "Particles_Pz_ele <class 'sdf.BlockPointVariable'> [98]\n",
      "Particles_Weight_N_ele <class 'sdf.BlockPointVariable'> [176219]\n",
      "Particles_Weight_ele <class 'sdf.BlockPointVariable'> [98]\n",
      "Plasma_frequency_timestep_restriction <class 'sdf.BlockConstant'> [1]\n",
      "Random_States <class 'sdf.BlockArray'> [512]\n",
      "SDF_repository_information <class 'sdf.BlockNameValue'> [6]\n",
      "Time_increment <class 'sdf.BlockConstant'> [1]\n",
      "Window_Shift_Fraction <class 'sdf.BlockConstant'> [1]\n",
      "nstep_prev_normal <class 'sdf.BlockConstant'> [1]\n",
      "time_prev_normal <class 'sdf.BlockConstant'> [1]\n"
     ]
    }
   ],
   "source": [
    "# look at all the data stored in the .sdf file\n",
    "sh.list_variables(data_3d)"
   ]
  },
  {
   "cell_type": "code",
   "execution_count": 6,
   "metadata": {
    "attributes": {
     "classes": [],
     "id": "",
     "n": "68"
    }
   },
   "outputs": [
    {
     "name": "stdout",
     "output_type": "stream",
     "text": [
      "filename /home/berceanu/Development/PPEx/epoch/old_plotting/3d.sdf\n",
      "file_version 1\n",
      "file_revision 4\n",
      "code_name Epoch3d\n",
      "step 37467\n",
      "time 4.269666452553187e-12\n",
      "jobid1 1457336554\n",
      "jobid2 924\n",
      "code_io_version 1\n",
      "restart_flag True\n",
      "other_domains False\n",
      "station_file False\n"
     ]
    }
   ],
   "source": [
    "head = data_3d.Header\n",
    "for k, v in head.items():\n",
    "    print(k, v)"
   ]
  },
  {
   "cell_type": "code",
   "execution_count": 7,
   "metadata": {
    "attributes": {
     "classes": [],
     "id": "",
     "n": "6"
    }
   },
   "outputs": [],
   "source": [
    "# normalization factor\n",
    "norm = 2.73092449e-22"
   ]
  },
  {
   "cell_type": "code",
   "execution_count": 8,
   "metadata": {
    "attributes": {
     "classes": [],
     "id": "",
     "n": "7"
    }
   },
   "outputs": [],
   "source": [
    "# N_ele are the accelerated electrons, from the Nitrogen K-shell\n",
    "# particle momenta\n",
    "px = data_3d.Particles_Px_N_ele.data / norm\n",
    "py = data_3d.Particles_Py_N_ele.data / norm\n",
    "pz = data_3d.Particles_Pz_N_ele.data / norm\n",
    "# particle weights\n",
    "w = data_3d.Particles_Weight_N_ele.data\n",
    "# particle positions\n",
    "(x, y, z) = data_3d.Grid_Particles_N_ele.data"
   ]
  },
  {
   "cell_type": "code",
   "execution_count": 9,
   "metadata": {
    "attributes": {
     "classes": [],
     "id": "",
     "n": "8"
    }
   },
   "outputs": [],
   "source": [
    "# get the grid\n",
    "(xx, yy, zz) = data_3d.Grid_Grid_mid.data\n",
    "# get bounds\n",
    "xx_min = xx.min()\n",
    "xx_max = xx.max()\n",
    "yy_min = yy.min()\n",
    "yy_max = yy.max()\n",
    "zz_min = zz.min()\n",
    "zz_max = zz.max()"
   ]
  },
  {
   "cell_type": "code",
   "execution_count": 10,
   "metadata": {
    "attributes": {
     "classes": [],
     "id": "",
     "n": "9"
    }
   },
   "outputs": [],
   "source": [
    "mask = ((px > 2.) & ((py**2 + pz**2) / px**2 < 1.))\n",
    "px, py, pz, w, x, y, z = [arr[mask] for arr in (px, py, pz, w, x, y, z)]"
   ]
  },
  {
   "cell_type": "code",
   "execution_count": 11,
   "metadata": {
    "attributes": {
     "classes": [],
     "id": "",
     "n": "10"
    }
   },
   "outputs": [],
   "source": [
    "ene = .511 * (np.sqrt(1. + px**2 + py**2 + pz**2) - 1.)"
   ]
  },
  {
   "cell_type": "code",
   "execution_count": 12,
   "metadata": {
    "attributes": {
     "classes": [],
     "id": "",
     "n": "11"
    }
   },
   "outputs": [],
   "source": [
    "H, edges = np.histogramdd(ene, bins=100, weights=w)"
   ]
  },
  {
   "cell_type": "code",
   "execution_count": 13,
   "metadata": {
    "attributes": {
     "classes": [],
     "id": "",
     "n": "12"
    }
   },
   "outputs": [
    {
     "data": {
      "image/png": "[encoded data removed]",
      "text/plain": [
       "<matplotlib.figure.Figure at 0x7f50d36ee4e0>"
      ]
     },
     "metadata": {},
     "output_type": "display_data"
    }
   ],
   "source": [
    "fig, ax = plt.subplots()\n",
    "fig.subplots_adjust(left=.15, bottom=.16, right=.99, top=.97)\n",
    "plot_kwds={'linewidth':5, 'alpha':0.5}\n",
    "ax.semilogy(edges[0][:-1], H, basey=10, nonposy='mask', **plot_kwds)\n",
    "ax.grid(color='gray', linestyle='--', linewidth=2)\n",
    "ax.set_xlabel('Energy [MeV]')\n",
    "ax.set_ylabel('Counts [Number per MeV]');\n"
   ]
  },
  {
   "cell_type": "code",
   "execution_count": 14,
   "metadata": {
    "attributes": {
     "classes": [],
     "id": "",
     "n": "13"
    }
   },
   "outputs": [],
   "source": [
    "angle = np.sqrt(py**2 + pz**2) / px"
   ]
  },
  {
   "cell_type": "code",
   "execution_count": 15,
   "metadata": {
    "attributes": {
     "classes": [],
     "id": "",
     "n": "14"
    }
   },
   "outputs": [],
   "source": [
    "H, edges = np.histogramdd(angle, bins=80, weights=w)"
   ]
  },
  {
   "cell_type": "code",
   "execution_count": 16,
   "metadata": {
    "attributes": {
     "classes": [],
     "id": "",
     "n": "15"
    }
   },
   "outputs": [
    {
     "data": {
      "image/png": "[encoded data removed]",
      "text/plain": [
       "<matplotlib.figure.Figure at 0x7f50d1974d30>"
      ]
     },
     "metadata": {},
     "output_type": "display_data"
    }
   ],
   "source": [
    "fig, ax = plt.subplots()\n",
    "ax.semilogy(edges[0][:-1], H, basey=10, nonposy='mask')\n",
    "\n",
    "ax.set_xlabel(r'$\\frac{p_{\\perp}}{p_{\\parallel}}$')\n",
    "ax.set_ylabel('Counts [Number per 0.01 rad]');"
   ]
  },
  {
   "cell_type": "code",
   "execution_count": 17,
   "metadata": {
    "attributes": {
     "classes": [],
     "id": "",
     "n": "16"
    }
   },
   "outputs": [],
   "source": [
    "pperp = np.sqrt(py**2 + pz**2)"
   ]
  },
  {
   "cell_type": "code",
   "execution_count": 18,
   "metadata": {
    "attributes": {
     "classes": [],
     "id": "",
     "n": "17"
    }
   },
   "outputs": [],
   "source": [
    "H, edges = np.histogramdd([px, pperp], bins=100, weights=w)"
   ]
  },
  {
   "cell_type": "code",
   "execution_count": 19,
   "metadata": {
    "attributes": {
     "classes": [],
     "id": "",
     "n": "18"
    }
   },
   "outputs": [],
   "source": [
    "# replace zero values before taking the logarithm \n",
    "H[~(H > 0.)] = 1."
   ]
  },
  {
   "cell_type": "code",
   "execution_count": 20,
   "metadata": {
    "attributes": {
     "classes": [],
     "id": "",
     "n": "19"
    }
   },
   "outputs": [
    {
     "data": {
      "image/png": "[encoded data removed]",
      "text/plain": [
       "<matplotlib.figure.Figure at 0x7f50d172f208>"
      ]
     },
     "metadata": {},
     "output_type": "display_data"
    }
   ],
   "source": [
    "fig, ax = plt.subplots()\n",
    "img = ax.imshow(np.log10(H.T), origin='lower', interpolation='none',\n",
    "                extent=np.array([edges[0].min(), edges[0].max(), edges[1].min(), edges[1].max()]),\n",
    "                aspect='auto')\n",
    " \n",
    "ax.set_xlabel(r'$p_{\\parallel} [m_e c]$')\n",
    "ax.set_ylabel(r'$p_{\\perp} [m_e c]$')\n",
    "\n",
    "cbar = util.colorbar(img)\n",
    "cbar.set_label(r'$\\log_{10}$' + ' Counts [Number per ' + r'$(m_e c)^2]$')"
   ]
  },
  {
   "cell_type": "code",
   "execution_count": 21,
   "metadata": {
    "attributes": {
     "classes": [],
     "id": "",
     "n": "20"
    }
   },
   "outputs": [],
   "source": [
    "H, edges = np.histogramdd([x, px], bins=100, weights=w)"
   ]
  },
  {
   "cell_type": "code",
   "execution_count": 22,
   "metadata": {
    "attributes": {
     "classes": [],
     "id": "",
     "n": "21"
    }
   },
   "outputs": [
    {
     "data": {
      "image/png": "[encoded data removed]",
      "text/plain": [
       "<matplotlib.figure.Figure at 0x7f50d18dc470>"
      ]
     },
     "metadata": {},
     "output_type": "display_data"
    }
   ],
   "source": [
    "fig, ax = plt.subplots()\n",
    "img = ax.imshow(H.T, origin='lower', interpolation='none',\n",
    "                extent=np.array([edges[0].min(), edges[0].max(), edges[1].min(), edges[1].max()]),\n",
    "                aspect='auto')\n",
    " \n",
    "ax.set_xlabel(r'$x$' + ' [m]')\n",
    "ax.set_ylabel(r'$p_x [m_e c]$')\n",
    "\n",
    "cbar = util.colorbar(img)\n",
    "cbar.set_label('Count [arb. unit]')"
   ]
  },
  {
   "cell_type": "code",
   "execution_count": 23,
   "metadata": {
    "attributes": {
     "classes": [],
     "id": "",
     "n": "22"
    }
   },
   "outputs": [],
   "source": [
    "def charge_ene_vs_x_3D_N(files):\n",
    "    # normalization factor\n",
    "    norm = 2.73092449e-22\n",
    "    \n",
    "    x_at_ene_max = list()\n",
    "    ene_max = list()\n",
    "    charge = list()\n",
    "    \n",
    "    for _, fname in files.items():\n",
    "        print('processing {}'.format(fname))\n",
    "        \n",
    "        d = sh.getdata(fname, verbose=False)\n",
    "        \n",
    "        px = d.Particles_Px_N_ele.data / norm\n",
    "        py = d.Particles_Py_N_ele.data / norm\n",
    "        pz = d.Particles_Pz_N_ele.data / norm\n",
    "        w = d.Particles_Weight_N_ele.data\n",
    "        (x, _, _) = d.Grid_Particles_N_ele.data\n",
    "        \n",
    "        mask = (px > 30.)\n",
    "        px, py, pz, w, x = [arr[mask] for arr in (px, py, pz, w, x)]\n",
    "        \n",
    "        ene = .511 * (np.sqrt(1. + px**2 + py**2 + pz**2) - 1.)\n",
    "        \n",
    "        charge.append(np.sum(w) * 1.6e-19)\n",
    "        ene_max.append(np.max(ene))\n",
    "        x_at_ene_max.append(x[np.argmax(ene)])\n",
    "\n",
    "    return x_at_ene_max, ene_max, charge"
   ]
  },
  {
   "cell_type": "code",
   "execution_count": 24,
   "metadata": {
    "attributes": {
     "classes": [],
     "id": "",
     "n": "23"
    }
   },
   "outputs": [],
   "source": [
    "#t = get_sdf_files(rf)\n",
    "t = OrderedDict([(5, '0005.sdf'),\n",
    "                 (9, '0009.sdf')])"
   ]
  },
  {
   "cell_type": "code",
   "execution_count": 25,
   "metadata": {
    "attributes": {
     "classes": [],
     "id": "",
     "n": "62"
    }
   },
   "outputs": [
    {
     "name": "stdout",
     "output_type": "stream",
     "text": [
      "processing 0005.sdf\n",
      "processing 0009.sdf\n"
     ]
    }
   ],
   "source": [
    "x_at_ene_max, ene_max, charge = charge_ene_vs_x_3D_N(t)"
   ]
  },
  {
   "cell_type": "code",
   "execution_count": 26,
   "metadata": {},
   "outputs": [
    {
     "data": {
      "image/png": "[encoded data removed]",
      "text/plain": [
       "<matplotlib.figure.Figure at 0x7f50bf63a128>"
      ]
     },
     "metadata": {},
     "output_type": "display_data"
    }
   ],
   "source": [
    "fig, ax1 = plt.subplots()\n",
    "\n",
    "#left\n",
    "ax1.scatter(x_at_ene_max, ene_max, c='b')\n",
    "# Make the y-axis label, ticks and tick labels match the line color.\n",
    "ax1.set_ylabel(r'$E_{max}$ [MeV]', color='b')\n",
    "ax1.set_xlabel('x [m]')\n",
    "ax1.tick_params('y', colors='b')\n",
    "\n",
    "#right\n",
    "ax2 = ax1.twinx()\n",
    "ax2.scatter(x_at_ene_max, np.array(charge)*1e9, c='r')\n",
    "ax2.set_ylabel('Charge [nC]', color='r')\n",
    "ax2.tick_params('y', colors='r')\n",
    "\n",
    "fig.tight_layout()"
   ]
  },
  {
   "cell_type": "code",
   "execution_count": 27,
   "metadata": {},
   "outputs": [
    {
     "data": {
      "text/plain": [
       "0.21633584177467899"
      ]
     },
     "execution_count": 27,
     "metadata": {},
     "output_type": "execute_result"
    }
   ],
   "source": [
    "charge[0] * 1e+9"
   ]
  },
  {
   "cell_type": "code",
   "execution_count": 28,
   "metadata": {
    "attributes": {
     "classes": [],
     "id": "",
     "n": "73"
    }
   },
   "outputs": [],
   "source": [
    "# load the electric field components\n",
    "ex = data_3d.Electric_Field_Ex\n",
    "ey = data_3d.Electric_Field_Ey\n",
    "ez = data_3d.Electric_Field_Ez"
   ]
  },
  {
   "cell_type": "code",
   "execution_count": 29,
   "metadata": {
    "attributes": {
     "classes": [],
     "id": "",
     "n": "74"
    }
   },
   "outputs": [],
   "source": [
    "# load the K-shell Nitrogen electrons\n",
    "nNele = data_3d.Derived_Number_Density_N_ele\n",
    "rho = nNele.data"
   ]
  }
 ],
 "metadata": {
  "kernelspec": {
   "display_name": "Python 3",
   "language": "python",
   "name": "python3"
  },
  "language_info": {
   "codemirror_mode": {
    "name": "ipython",
    "version": 3
   },
   "file_extension": ".py",
   "mimetype": "text/x-python",
   "name": "python",
   "nbconvert_exporter": "python",
   "pygments_lexer": "ipython3",
   "version": "3.6.5"
  }
 },
 "nbformat": 4,
 "nbformat_minor": 2
}
