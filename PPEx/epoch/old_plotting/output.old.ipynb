{
 "cells": [
  {
   "cell_type": "markdown",
   "metadata": {},
   "source": [
    "### Import needed libraries"
   ]
  },
  {
   "cell_type": "code",
   "execution_count": 1,
   "metadata": {
    "attributes": {
     "classes": [],
     "id": "",
     "n": "1"
    }
   },
   "outputs": [],
   "source": [
    "# library provided by EPOCH for reading .sdf output files into Python\n",
    "import sdf \n",
    "\n",
    "# python plotting library similar to MATLAB(TM)\n",
    "import matplotlib.pyplot as plt\n",
    "from mpl_toolkits.axes_grid1 import make_axes_locatable\n",
    "\n",
    "# signal processing, needed for convolution\n",
    "from scipy import signal\n",
    "\n",
    "# Python array manipulation\n",
    "import numpy as np\n",
    "\n",
    "# various math functions \n",
    "import math as m"
   ]
  },
  {
   "cell_type": "code",
   "execution_count": null,
   "metadata": {},
   "outputs": [],
   "source": [
    "# show plots in the notebook\n",
    "%matplotlib inline"
   ]
  },
  {
   "cell_type": "markdown",
   "metadata": {},
   "source": [
    "### Define useful functions"
   ]
  },
  {
   "cell_type": "code",
   "execution_count": null,
   "metadata": {},
   "outputs": [],
   "source": [
    "from collections import OrderedDict"
   ]
  },
  {
   "cell_type": "code",
   "execution_count": null,
   "metadata": {},
   "outputs": [],
   "source": [
    "def get_sdf_files(path):\n",
    "    r\"\"\"Given a ``path``, it returns an ordered dictionary containing all the .sdf files in that path, \n",
    "    in the form {#### : /../../####.sdf}\"\"\"\n",
    "    \n",
    "    sdfs = glob.glob(os.path.join(path, '*.sdf')) \n",
    "    sdf_dict = {int(sdf.split('.')[0][-4:]):sdf for sdf in sdfs}\n",
    "    sdf_ord_dict = OrderedDict(sorted(sdf_dict.items(), key=lambda t: t[1])) \n",
    "    \n",
    "    return sdf_ord_dict"
   ]
  },
  {
   "cell_type": "code",
   "execution_count": null,
   "metadata": {},
   "outputs": [],
   "source": [
    "def center_linspace(space):\n",
    "    r\"\"\"\n",
    "    \n",
    "    Parameters\n",
    "    ----------\n",
    "    space : ndarray\n",
    "        A one-dimensional array, of linearly spaced numbers. \n",
    "    \n",
    "    Returns\n",
    "    -------\n",
    "    out : ndarray\n",
    "        Also an array of the same spacing, this time centered around 0.\n",
    "    \"\"\"\n",
    "    \n",
    "    assert np.ndim(space) == 1\n",
    "    size = space.size\n",
    "    first = space[0]\n",
    "    last = space[-1]\n",
    "    length = last - first\n",
    "    end = length/2\n",
    "    \n",
    "    _, step = np.linspace(first, last, size, retstep=True)\n",
    "    \n",
    "    out, out_step = np.linspace(-end, end, size, retstep=True) \n",
    "    assert m.isclose(out_step, step)\n",
    "    return out"
   ]
  },
  {
   "cell_type": "code",
   "execution_count": null,
   "metadata": {},
   "outputs": [],
   "source": [
    "def list_sdf_variables(data):\n",
    "    r\"\"\"Lists all the quantities from the .sdf file.\n",
    "    \n",
    "    Parameters\n",
    "    ----------\n",
    "    data : ``sdf.Blocklist``\n",
    "        The results of calling sdf.read on an .sdf file.\n",
    "    \"\"\"\n",
    "    dct = data.__dict__\n",
    "    for key in sorted(dct):\n",
    "        try:\n",
    "            val = dct[key]\n",
    "            print('{} {} {}'.format(key, type(val),\n",
    "                  np.array2string(np.array(val.dims), separator=', ')))\n",
    "        except:\n",
    "            pass"
   ]
  },
  {
   "cell_type": "code",
   "execution_count": null,
   "metadata": {},
   "outputs": [],
   "source": [
    "def colorbar(mappable):\n",
    "    r\"\"\"Constructs a scaled colorbar for a given plot.\n",
    "    \n",
    "    Parameters\n",
    "    ----------\n",
    "    mappable : The Image, ContourSet, etc. to which the colorbar applies.\n",
    "    \"\"\"\n",
    "    ax = mappable.axes\n",
    "    fig = ax.figure\n",
    "    divider = make_axes_locatable(ax)\n",
    "    cax = divider.append_axes(\"right\", size=\"5%\", pad=0.05)\n",
    "    return fig.colorbar(mappable, cax=cax)"
   ]
  },
  {
   "cell_type": "code",
   "execution_count": null,
   "metadata": {},
   "outputs": [],
   "source": [
    "def gauss_kern_nd(n, sizes):\n",
    "    r\"\"\"Constructs a Gaussian kernel in any number of dimensions.\n",
    "    \n",
    "    Parameters\n",
    "    ----------\n",
    "    n : int\n",
    "        The number of dimensions. Must be 1 or above.\n",
    "    sizes : list\n",
    "        The sizes along the various dimensions, ie. in 3D this would be [size_x, size_y, size_x]. The length of\n",
    "        this list should be either 1 or n. If it only contains one element, eg. [size], it is assumed that\n",
    "        size_x = size_y = size_x = size.\n",
    "    \n",
    "    Returns\n",
    "    -------\n",
    "    g : ndarray\n",
    "        The kernel, with dimensions (in 3d) (2*size_x+1, 2*size_y+1, 2*size_z+1).\n",
    "    \"\"\"\n",
    "    assert n > 0, 'at least 1d required'\n",
    "    no_sizes = len(sizes)\n",
    "    assert no_sizes == 1 or no_sizes == n, 'either give one size or all of them'\n",
    "    \n",
    "    for i in range(n - no_sizes):\n",
    "        sizes.append(sizes[0])\n",
    "        \n",
    "    slices = tuple(slice(-size,size+1,None) for size in sizes)\n",
    "    \n",
    "    XXX = np.mgrid[slices]\n",
    "    \n",
    "    g = np.ones(XXX.shape[1:], dtype=np.float64)\n",
    "    \n",
    "    for X, size in zip(XXX, sizes):\n",
    "        g = g * np.exp(-X**2/size)\n",
    "        \n",
    "    return g / g.sum()"
   ]
  },
  {
   "cell_type": "code",
   "execution_count": null,
   "metadata": {},
   "outputs": [],
   "source": [
    "def smooth(data, n, sizes):\n",
    "    r\"\"\"Smoothens the input by performing a convolution with a Gaussian kernel.\n",
    "    \n",
    "    Parameters\n",
    "    ----------\n",
    "    data : ndarray\n",
    "        Input data, with ``n`` dimensions.\n",
    "    n : int\n",
    "        The number of dimensions. Must be 1 or above.\n",
    "    sizes : list\n",
    "        The sizes along the various dimensions, ie. in 3D this would be [size_x, size_y, size_x]. The length of\n",
    "        this list should be either 1 or n. If it only contains one element, eg. [size], it is assumed that\n",
    "        size_x = size_y = size_x = size.\n",
    "        \n",
    "    Returns\n",
    "    -------\n",
    "    out : ndarray\n",
    "        The smoothed input, of shape ```data.shape - 2 * sizes```.\n",
    "    \"\"\"\n",
    "    \n",
    "    g = gauss_kern_nd(n, sizes)\n",
    "    out = signal.convolve(data, g, mode='valid')\n",
    "    return(out)"
   ]
  },
  {
   "cell_type": "markdown",
   "metadata": {},
   "source": [
    "bash console commands can be run inside the notebook, eg.\n",
    "\n",
    "The following code will download the data needed for this notebook automatically\n",
    "using `curl`. It may take some time (the archive is 1.2 GB), so please wait when\n",
    "the kernel is busy. You will need to set `download_datasets` to `True` before\n",
    "using it."
   ]
  },
  {
   "cell_type": "code",
   "execution_count": null,
   "metadata": {},
   "outputs": [],
   "source": [
    "download_datasets = False\n",
    "if download_datasets:\n",
    "    !curl -sSO https://ndownloader.figshare.com/articles/5545165/versions/1\n",
    "    print (\"Downloaded the EPOCH data from figshare.\")\n",
    "    !unzip 1 \n",
    "    \n",
    "    print (\"All done!\")"
   ]
  },
  {
   "cell_type": "code",
   "execution_count": null,
   "metadata": {},
   "outputs": [],
   "source": [
    "# these are the .sdf files used in the notebook. they must be present in the same folder when the notebook is run\n",
    "!ls -lsa *.sdf"
   ]
  },
  {
   "cell_type": "code",
   "execution_count": null,
   "metadata": {},
   "outputs": [],
   "source": [
    "# these are the corresponding EPOCH input decks\n",
    "!ls -lsa *.deck"
   ]
  },
  {
   "cell_type": "markdown",
   "metadata": {},
   "source": [
    "And even latex can be used:\n",
    "$$E^2 = (pc)^2 + (mc^2)^2$$\n",
    "\n",
    "# 1D case\n",
    "\n",
    "For the 1D case, we just use `numpy` and `matplolib` for low-level plotting and\n",
    "data analysis."
   ]
  },
  {
   "cell_type": "code",
   "execution_count": null,
   "metadata": {},
   "outputs": [],
   "source": [
    "# load the sdf file produced by EPOCH\n",
    "# ignore the warning\n",
    "fname = '1d.sdf'\n",
    "d = sdf.read(fname)\n",
    "fields = d.__dict__"
   ]
  },
  {
   "cell_type": "code",
   "execution_count": null,
   "metadata": {},
   "outputs": [],
   "source": [
    "# assign separate variables to the various quantities we want to look at\n",
    "grid = fields['Grid_Grid_mid']\n",
    "nele = fields['Derived_Number_Density_ele']\n",
    "ex = fields['Electric_Field_Ex']\n",
    "ey = fields['Electric_Field_Ey']"
   ]
  },
  {
   "cell_type": "code",
   "execution_count": null,
   "metadata": {},
   "outputs": [],
   "source": [
    "# the .data attribute contains the raw data we need to plot\n",
    "(x,) = grid.data\n",
    "# convert to micrometers\n",
    "x = x*1e6\n",
    "rho = nele.data"
   ]
  },
  {
   "cell_type": "code",
   "execution_count": null,
   "metadata": {},
   "outputs": [],
   "source": [
    "# define size of Gaussian kernel used for noise reduction\n",
    "kern_size = 100\n",
    "rho_smooth = smooth(rho, 1, [kern_size])"
   ]
  },
  {
   "cell_type": "code",
   "execution_count": null,
   "metadata": {},
   "outputs": [],
   "source": [
    "fig, axes = plt.subplots(ncols=2, figsize=[14,3])\n",
    "\n",
    "axes[0].plot(x, rho)\n",
    "axes[1].plot(x[kern_size:-kern_size], rho_smooth)\n",
    "\n",
    "axes[0].set_title('raw data')\n",
    "axes[1].set_title('after convolution with Gaussian kernel')\n",
    "\n",
    "for ax in axes:\n",
    "    # the labels and units were contained in the .sdf file\n",
    "    ax.set_xlabel(nele.grid_mid.labels[0] + r' $(\\mu m)$', labelpad=-1)\n",
    "    ax.set_ylabel(nele.name + r' $(' + nele.units + r')$');\n",
    "\n",
    "plt.tight_layout(h_pad=1)\n",
    "\n",
    "# saves the generated figure to disk in the same folder that the notebook is ran from\n",
    "fig.savefig('1d_rho.png')"
   ]
  },
  {
   "cell_type": "code",
   "execution_count": null,
   "metadata": {},
   "outputs": [],
   "source": [
    "fig, axes = plt.subplots(ncols=2, figsize=[14,3])\n",
    "\n",
    "for ax, ef in zip(axes, (ex.data, ey.data)):\n",
    "    ax.plot(x, ef)\n",
    "\n",
    "for ax, electric in zip(axes, (ex, ey)):\n",
    "    ax.set_xlabel(electric.grid_mid.labels[0] + r' $(\\mu m)$', labelpad=-1)\n",
    "    ax.set_ylabel(electric.name + r' $(' + electric.units + r')$');\n",
    "\n",
    "fig.suptitle('components of the electric field')\n",
    "plt.tight_layout(h_pad=1)"
   ]
  },
  {
   "cell_type": "markdown",
   "metadata": {},
   "source": [
    "# 2D case\n",
    "\n",
    "Now we analythe the results from a simple 2D simulation. We use the higher-level\n",
    "library [`holoviews`](http://holoviews.org) for interactive plotting."
   ]
  },
  {
   "cell_type": "code",
   "execution_count": null,
   "metadata": {},
   "outputs": [],
   "source": [
    "fname = '2d.sdf'\n",
    "d = sdf.read(fname)\n",
    "fields = d.__dict__"
   ]
  },
  {
   "cell_type": "code",
   "execution_count": null,
   "metadata": {},
   "outputs": [],
   "source": [
    "grid = fields['Grid_Grid_mid']\n",
    "nele = fields['Derived_Number_Density_ele']\n",
    "ex = fields['Electric_Field_Ex']\n",
    "ey = fields['Electric_Field_Ey']"
   ]
  },
  {
   "cell_type": "code",
   "execution_count": null,
   "metadata": {},
   "outputs": [],
   "source": [
    "(x, y) = grid.data\n",
    "# convert to micrometers\n",
    "x = x*1e+6\n",
    "y = y*1e+6"
   ]
  },
  {
   "cell_type": "code",
   "execution_count": null,
   "metadata": {},
   "outputs": [],
   "source": [
    "# get boundaries of simulation box\n",
    "x_min = np.min(x); x_max = np.max(x)\n",
    "y_min = np.min(y); y_max = np.max(y)"
   ]
  },
  {
   "cell_type": "code",
   "execution_count": null,
   "metadata": {},
   "outputs": [],
   "source": [
    "# note we transpose the raw data \n",
    "rho = nele.data.T\n",
    "\n",
    "# we convolute with a Gaussian kernel of size (30, 30) to reduce the noise\n",
    "kern_size = 30\n",
    "rho_smooth = smooth(nele.data.T, 2, [kern_size])"
   ]
  },
  {
   "cell_type": "code",
   "execution_count": null,
   "metadata": {},
   "outputs": [],
   "source": [
    "fig, axes = plt.subplots(ncols=2, figsize=[14,4])\n",
    "\n",
    "imgs = []\n",
    "for ax, r in zip(axes, (rho, rho_smooth)):\n",
    "    img = ax.imshow(r, origin='lower', interpolation='none',\n",
    "                    extent=np.array([x_min, x_max, y_min, y_max]),\n",
    "                    aspect='auto')\n",
    "    imgs.append(img)\n",
    "\n",
    "axes[0].set_title('raw data')\n",
    "axes[1].set_title('after convolution with Gaussian kernel')\n",
    "\n",
    "for ax in axes:\n",
    "    for axis, label in zip([ax.xaxis, ax.yaxis], nele.grid_mid.labels):\n",
    "        axis.set(label_text=label + r' $(\\mu m)$')\n",
    "\n",
    "# add colorbars to the plots\n",
    "cbars = [colorbar(img) for img in imgs]\n",
    "\n",
    "for cbar in cbars:\n",
    "    cbar.set_label(nele.name + r' $(' + nele.units + r')$')\n",
    "\n",
    "plt.tight_layout(h_pad=1)"
   ]
  },
  {
   "cell_type": "code",
   "execution_count": null,
   "metadata": {},
   "outputs": [],
   "source": [
    "# electric field, x and y components\n",
    "efx = ex.data.T\n",
    "efy = ey.data.T"
   ]
  },
  {
   "cell_type": "code",
   "execution_count": null,
   "metadata": {},
   "outputs": [],
   "source": [
    "fig, axes = plt.subplots(ncols=2, figsize=[14,4])\n",
    "\n",
    "imgs = []\n",
    "for ax, ef in zip(axes, (efx, efy)):\n",
    "    img = ax.imshow(ef, origin='lower', interpolation='none',\n",
    "                    extent=np.array([x_min, x_max, y_min, y_max]),\n",
    "                    aspect='auto')\n",
    "    imgs.append(img)\n",
    "\n",
    "for ax, ef in zip(axes, (ex,ey)):\n",
    "    for axis, label in zip([ax.xaxis, ax.yaxis], ef.grid_mid.labels):\n",
    "        axis.set(label_text=label + r' $(\\mu m)$')\n",
    "\n",
    "# add colorbars to the plots\n",
    "cbars = [colorbar(img) for img in imgs]\n",
    "\n",
    "for cbar, ef in zip(cbars, (ex, ey)):\n",
    "    cbar.set_label(ef.name + r' $(' + ef.units + r')$')\n",
    "\n",
    "plt.tight_layout(h_pad=1)"
   ]
  },
  {
   "cell_type": "code",
   "execution_count": null,
   "metadata": {},
   "outputs": [],
   "source": [
    "# integrate out the x dependence\n",
    "e_sum_x = np.sum(np.abs(efy), axis=1)"
   ]
  },
  {
   "cell_type": "code",
   "execution_count": null,
   "metadata": {},
   "outputs": [],
   "source": [
    "# we get a Gaussian\n",
    "fig, ax = plt.subplots()\n",
    "ax.plot(y, e_sum_x)\n",
    "ax.set_xlabel(ey.grid_mid.labels[1] + r' $(\\mu m)$', labelpad=0)\n",
    "ax.set_ylabel(r'$\\sum_{x} |E_y(x,y)|$ [V/m]');"
   ]
  },
  {
   "cell_type": "code",
   "execution_count": null,
   "metadata": {},
   "outputs": [],
   "source": [
    "# interactive visualization library\n",
    "import holoviews as hv\n",
    "hv.extension('matplotlib')"
   ]
  },
  {
   "cell_type": "code",
   "execution_count": null,
   "metadata": {},
   "outputs": [],
   "source": [
    "# set global plotting and style options for holoviews\n",
    "%opts Image (cmap='viridis') [colorbar=True] Bounds (color='red') HLine (color='red') VLine (color='red')"
   ]
  },
  {
   "cell_type": "markdown",
   "metadata": {},
   "source": [
    "We want to look at the electron density. We first define its dimensions, along\n",
    "with the corresponding units."
   ]
  },
  {
   "cell_type": "code",
   "execution_count": null,
   "metadata": {},
   "outputs": [],
   "source": [
    "xdim = hv.Dimension('x', label='x', unit=r'$\\mu$'+'m')\n",
    "ydim = hv.Dimension('y', label='y', unit=r'$\\mu$'+'m')\n",
    "zdim = hv.Dimension('z', label=nele.name, unit=r'$'+nele.units+r'$')"
   ]
  },
  {
   "cell_type": "code",
   "execution_count": null,
   "metadata": {},
   "outputs": [],
   "source": [
    "# this are the ranges of the axes after the convolution\n",
    "k = kern_size\n",
    "xrange = x[k:-k]\n",
    "yrange = y[k:-k]"
   ]
  },
  {
   "cell_type": "code",
   "execution_count": null,
   "metadata": {},
   "outputs": [],
   "source": [
    "# we load the smoothed electron density into an Image object\n",
    "img = hv.Image((xrange, yrange, rho_smooth), datatype=['grid'], \n",
    "                 kdims=[xdim, ydim], vdims=[zdim])"
   ]
  },
  {
   "cell_type": "code",
   "execution_count": null,
   "metadata": {},
   "outputs": [],
   "source": [
    "# we want to focus on a particular region of the density, defined by these coordinates\n",
    "x1 = xrange[60]; x2 = xrange[-500]\n",
    "y1 = -20; y2 = 20"
   ]
  },
  {
   "cell_type": "code",
   "execution_count": null,
   "metadata": {},
   "outputs": [],
   "source": [
    "# we plot the full image and the region of interest side by side"
   ]
  },
  {
   "cell_type": "code",
   "execution_count": null,
   "metadata": {},
   "outputs": [],
   "source": [
    "%%output size=150\n",
    "img_box = img[x1:x2, y1:y2]\n",
    "box = hv.Bounds((x1,y1,x2,y2))\n",
    "img*box + img_box"
   ]
  },
  {
   "cell_type": "markdown",
   "metadata": {},
   "source": [
    "Now we can define a slice along the `y` axis and interactively move it."
   ]
  },
  {
   "cell_type": "code",
   "execution_count": null,
   "metadata": {},
   "outputs": [],
   "source": [
    "x_slice = {x : img_box * hv.VLine(x=x) + img_box.sample(x=x) for x in np.linspace(x1, x2, 50)}"
   ]
  },
  {
   "cell_type": "code",
   "execution_count": null,
   "metadata": {},
   "outputs": [],
   "source": [
    "hv.HoloMap(x_slice, kdims=['x']).collate()"
   ]
  },
  {
   "cell_type": "markdown",
   "metadata": {},
   "source": [
    "And of course, we can do the same along `x`."
   ]
  },
  {
   "cell_type": "code",
   "execution_count": null,
   "metadata": {},
   "outputs": [],
   "source": [
    "y_slice = {y : img_box * hv.HLine(y=y) + img_box.sample(y=y) for y in np.linspace(y1, y2, 50)}"
   ]
  },
  {
   "cell_type": "code",
   "execution_count": null,
   "metadata": {},
   "outputs": [],
   "source": [
    "hv.HoloMap(y_slice, kdims=['y']).collate()"
   ]
  },
  {
   "cell_type": "markdown",
   "metadata": {},
   "source": [
    "And we can plot the region of interest, together with the two slices, in one\n",
    "line. Notice `holoviews` automatically knows how to label the plots."
   ]
  },
  {
   "cell_type": "code",
   "execution_count": null,
   "metadata": {},
   "outputs": [],
   "source": [
    "%%output size=150\n",
    "img_box * hv.HLine(y=0.) * hv.VLine(x=787) + img_box.sample(y=0.) + img_box.sample(x=787)"
   ]
  },
  {
   "cell_type": "markdown",
   "metadata": {},
   "source": [
    "# 3D case"
   ]
  },
  {
   "cell_type": "code",
   "execution_count": null,
   "metadata": {},
   "outputs": [],
   "source": [
    "import os, glob"
   ]
  },
  {
   "cell_type": "code",
   "execution_count": null,
   "metadata": {},
   "outputs": [],
   "source": [
    "root = '/home/berceanu/Development/pic/ming_jobs'\n",
    "folder = 'ep_III3D1'\n",
    "rf = os.path.join(root, folder)\n",
    "\n",
    "sdfs = glob.glob(os.path.join(rf, '*.sdf')) \n",
    "sdf_file = {int(sdf.split('.')[0][-4:]):sdf for sdf in sdfs}\n",
    "\n",
    "fname = sdf_file[5]\n",
    "print(fname)"
   ]
  },
  {
   "cell_type": "code",
   "execution_count": null,
   "metadata": {},
   "outputs": [],
   "source": [
    "d = sdf.read(fname)\n",
    "fields = d.__dict__"
   ]
  },
  {
   "cell_type": "code",
   "execution_count": null,
   "metadata": {},
   "outputs": [],
   "source": [
    "# look at all the data stored in the .sdf file\n",
    "#list_sdf_variables(d)"
   ]
  },
  {
   "cell_type": "code",
   "execution_count": null,
   "metadata": {},
   "outputs": [],
   "source": [
    "# normalization factor\n",
    "norm = 2.73092449e-22"
   ]
  },
  {
   "cell_type": "code",
   "execution_count": null,
   "metadata": {},
   "outputs": [],
   "source": [
    "# N_ele are the accelerated electrons, from the Nitrogen K-shell\n",
    "# particle momenta\n",
    "px = fields['Particles_Px_N_ele'].data / norm\n",
    "py = fields['Particles_Py_N_ele'].data / norm\n",
    "pz = fields['Particles_Pz_N_ele'].data / norm\n",
    "# particle weights\n",
    "w = fields['Particles_Weight_N_ele'].data\n",
    "# particle positions\n",
    "(x, y, z) = fields['Grid_Particles_N_ele'].data"
   ]
  },
  {
   "cell_type": "code",
   "execution_count": null,
   "metadata": {},
   "outputs": [],
   "source": [
    "# get the grid\n",
    "(xx, yy, zz) = fields['Grid_Grid_mid'].data\n",
    "# get bounds\n",
    "xx_min = xx.min()\n",
    "xx_max = xx.max()\n",
    "yy_min = yy.min()\n",
    "yy_max = yy.max()\n",
    "zz_min = zz.min()\n",
    "zz_max = zz.max()"
   ]
  },
  {
   "cell_type": "code",
   "execution_count": null,
   "metadata": {},
   "outputs": [],
   "source": [
    "mask = ((px > 2.) & ((py**2 + pz**2) / px**2 < 1.))\n",
    "px, py, pz, w, x, y, z = [arr[mask] for arr in (px, py, pz, w, x, y, z)]"
   ]
  },
  {
   "cell_type": "code",
   "execution_count": null,
   "metadata": {},
   "outputs": [],
   "source": [
    "ene = .511 * (np.sqrt(1. + px**2 + py**2 + pz**2) - 1.)"
   ]
  },
  {
   "cell_type": "code",
   "execution_count": null,
   "metadata": {},
   "outputs": [],
   "source": [
    "H, edges = np.histogramdd(ene, bins=100, weights=w)"
   ]
  },
  {
   "cell_type": "code",
   "execution_count": null,
   "metadata": {},
   "outputs": [],
   "source": [
    "import matplotlib as mpl"
   ]
  },
  {
   "cell_type": "code",
   "execution_count": null,
   "metadata": {},
   "outputs": [],
   "source": [
    "# matplotlib parameters\n",
    "mpl.rcParams.update({\"axes.labelsize\" : 22,\n",
    "                                 \"axes.titlesize\" : 20,\n",
    "                                 \"font.size\" : 18,\n",
    "                                 \"legend.fontsize\" : 14,\n",
    "                                 \"axes.linewidth\" : 1.5,\n",
    "                                 \"font.family\" : \"serif\",\n",
    "                                 \"font.serif\" : \"Computer Modern Roman\",\n",
    "                                 \"xtick.labelsize\" : 20,\n",
    "                                 \"xtick.major.size\" : 5.5,\n",
    "                                 \"xtick.major.width\" : 1.5,\n",
    "                                 \"ytick.labelsize\" : 20,\n",
    "                                 \"ytick.major.size\" : 5.5,\n",
    "                                 \"ytick.major.width\" : 1.5,\n",
    "                                 \"text.usetex\" : True,\n",
    "                                 \"figure.autolayout\" : True})"
   ]
  },
  {
   "cell_type": "code",
   "execution_count": null,
   "metadata": {},
   "outputs": [],
   "source": [
    "height"
   ]
  },
  {
   "cell_type": "code",
   "execution_count": null,
   "metadata": {},
   "outputs": [],
   "source": [
    "fig, ax = plt.subplots()\n",
    "fig.subplots_adjust(left=.15, bottom=.16, right=.99, top=.97)\n",
    "plot_kwds={'linewidth':5, 'alpha':0.5}\n",
    "ax.semilogy(edges[0][:-1], H, basey=10, nonposy='mask', **plot_kwds)\n",
    "ax.grid(color='gray', linestyle='--', linewidth=2)\n",
    "ax.set_xlabel('Energy [MeV]')\n",
    "ax.set_ylabel('Counts [Number per MeV]');\n",
    "width  = 9.42\n",
    "#height = width / 1.618\n",
    "height = 4.989\n",
    "\n",
    "fig.set_size_inches(width, height) \n",
    "fig.savefig(\"spectrum.pdf\", transparent=True)"
   ]
  },
  {
   "cell_type": "code",
   "execution_count": null,
   "metadata": {},
   "outputs": [],
   "source": [
    "dpi = 500\n",
    "width = height = 9.333\n",
    "area = width * height"
   ]
  },
  {
   "cell_type": "code",
   "execution_count": null,
   "metadata": {},
   "outputs": [],
   "source": [
    "dpi * width"
   ]
  },
  {
   "cell_type": "code",
   "execution_count": null,
   "metadata": {},
   "outputs": [],
   "source": [
    "angle = np.sqrt(py**2 + pz**2) / px"
   ]
  },
  {
   "cell_type": "code",
   "execution_count": null,
   "metadata": {},
   "outputs": [],
   "source": [
    "H, edges = np.histogramdd(angle, bins=80, weights=w)"
   ]
  },
  {
   "cell_type": "code",
   "execution_count": null,
   "metadata": {},
   "outputs": [],
   "source": [
    "fig, ax = plt.subplots()\n",
    "ax.semilogy(edges[0][:-1], H, basey=10, nonposy='mask')\n",
    "\n",
    "ax.set_xlabel(r'$\\frac{p_{\\perp}}{p_{\\parallel}}$')\n",
    "ax.set_ylabel('Counts [Number per 0.01 rad]');"
   ]
  },
  {
   "cell_type": "code",
   "execution_count": null,
   "metadata": {},
   "outputs": [],
   "source": [
    "pperp = np.sqrt(py**2 + pz**2)"
   ]
  },
  {
   "cell_type": "code",
   "execution_count": null,
   "metadata": {},
   "outputs": [],
   "source": [
    "H, edges = np.histogramdd([px, pperp], bins=100, weights=w)"
   ]
  },
  {
   "cell_type": "code",
   "execution_count": null,
   "metadata": {},
   "outputs": [],
   "source": [
    "# replace zero values before taking the logarithm \n",
    "H[~(H > 0.)] = 1."
   ]
  },
  {
   "cell_type": "code",
   "execution_count": null,
   "metadata": {},
   "outputs": [],
   "source": [
    "fig, ax = plt.subplots()\n",
    "img = ax.imshow(np.log10(H.T), origin='lower', interpolation='none',\n",
    "                extent=np.array([edges[0].min(), edges[0].max(), edges[1].min(), edges[1].max()]),\n",
    "                aspect='auto')\n",
    " \n",
    "ax.set_xlabel(r'$p_{\\parallel} [m_e c]$')\n",
    "ax.set_ylabel(r'$p_{\\perp} [m_e c]$')\n",
    "\n",
    "cbar = colorbar(img)\n",
    "cbar.set_label(r'$\\log_{10}$' + ' Counts [Number per ' + r'$(m_e c)^2]$')"
   ]
  },
  {
   "cell_type": "code",
   "execution_count": null,
   "metadata": {},
   "outputs": [],
   "source": [
    "H, edges = np.histogramdd([x, px], bins=100, weights=w)"
   ]
  },
  {
   "cell_type": "code",
   "execution_count": null,
   "metadata": {},
   "outputs": [],
   "source": [
    "fig, ax = plt.subplots()\n",
    "img = ax.imshow(H.T, origin='lower', interpolation='none',\n",
    "                extent=np.array([edges[0].min(), edges[0].max(), edges[1].min(), edges[1].max()]),\n",
    "                aspect='auto')\n",
    " \n",
    "ax.set_xlabel(r'$x$' + ' [m]')\n",
    "ax.set_ylabel(r'$p_x [m_e c]$')\n",
    "\n",
    "cbar = colorbar(img)\n",
    "cbar.set_label('Count [arb. unit]')"
   ]
  },
  {
   "cell_type": "code",
   "execution_count": null,
   "metadata": {},
   "outputs": [],
   "source": [
    "def charge_ene_vs_x_3D_N(files):\n",
    "    # normalization factor\n",
    "    norm = 2.73092449e-22\n",
    "    \n",
    "    x_at_ene_max = list()\n",
    "    ene_max = list()\n",
    "    charge = list()\n",
    "    \n",
    "    for _, fname in files.items():\n",
    "        print('processing {}'.format(fname))\n",
    "        \n",
    "        d = sdf.read(fname)\n",
    "        fields = d.__dict__\n",
    "        \n",
    "        px = fields['Particles_Px_N_ele'].data / norm\n",
    "        py = fields['Particles_Py_N_ele'].data / norm\n",
    "        pz = fields['Particles_Pz_N_ele'].data / norm\n",
    "        w = fields['Particles_Weight_N_ele'].data\n",
    "        (x, _, _) = fields['Grid_Particles_N_ele'].data\n",
    "        \n",
    "        mask = (px > 30.)\n",
    "        px, py, pz, w, x = [arr[mask] for arr in (px, py, pz, w, x)]\n",
    "        \n",
    "        ene = .511 * (np.sqrt(1. + px**2 + py**2 + pz**2) - 1.)\n",
    "        \n",
    "        charge.append(np.sum(w) * 1.6e-19)\n",
    "        ene_max.append(np.max(ene))\n",
    "        x_at_ene_max.append(x[np.argmax(ene)])\n",
    "\n",
    "    return x_at_ene_max, ene_max, charge"
   ]
  },
  {
   "cell_type": "code",
   "execution_count": null,
   "metadata": {},
   "outputs": [],
   "source": [
    "#t = get_sdf_files(rf)\n",
    "t = OrderedDict([(5, '/home/berceanu/Development/pic/ming_jobs/ep_III3D1/0005.sdf'),\n",
    "                 (9, '/home/berceanu/Development/pic/ming_jobs/ep_III3D1/0009.sdf')])"
   ]
  },
  {
   "cell_type": "code",
   "execution_count": null,
   "metadata": {},
   "outputs": [],
   "source": [
    "x_at_ene_max, ene_max, charge = charge_ene_vs_x_3D_N(t)"
   ]
  },
  {
   "cell_type": "code",
   "execution_count": null,
   "metadata": {},
   "outputs": [],
   "source": [
    "fig, ax1 = plt.subplots()\n",
    "\n",
    "#left\n",
    "ax1.scatter(x_at_ene_max, ene_max, c='b')\n",
    "# Make the y-axis label, ticks and tick labels match the line color.\n",
    "ax1.set_ylabel(r'$E_{max}$ [MeV]', color='b')\n",
    "ax1.set_xlabel('x [m]')\n",
    "ax1.tick_params('y', colors='b')\n",
    "\n",
    "#right\n",
    "ax2 = ax1.twinx()\n",
    "ax2.scatter(x_at_ene_max, np.array(charge)*1e9, c='r')\n",
    "ax2.set_ylabel('Charge [nC]', color='r')\n",
    "ax2.tick_params('y', colors='r')\n",
    "\n",
    "fig.tight_layout()"
   ]
  },
  {
   "cell_type": "code",
   "execution_count": null,
   "metadata": {},
   "outputs": [],
   "source": [
    "charge[0] * 1e+9"
   ]
  },
  {
   "cell_type": "code",
   "execution_count": null,
   "metadata": {},
   "outputs": [],
   "source": [
    "# 3D visualization\n",
    "import yt # more complex, higher quality"
   ]
  },
  {
   "cell_type": "code",
   "execution_count": null,
   "metadata": {},
   "outputs": [],
   "source": [
    "#files = {10:'ep_III3D10/0009.sdf', 8:'ep_III3D8/0005.sdf', 3:'ep_III3D3/0008.sdf', 9:'ep_III3D9/0015.sdf', 0:'ep_III3D/0007.sdf',\n",
    "         #2:'ep_III3D2/0008.sdf', 7:'ep_III3D7/0005.sdf', 5:'ep_III3D5/0016.sdf', 1:'ep_III3D1/0009.sdf', 6:'ep_III3D6/0020.sdf',\n",
    "         #4:'ep_III3D4/0015.sdf'}"
   ]
  },
  {
   "cell_type": "code",
   "execution_count": null,
   "metadata": {},
   "outputs": [],
   "source": [
    "#fname = os.path.join(root, files[8])\n",
    "#print(fname)"
   ]
  },
  {
   "cell_type": "code",
   "execution_count": null,
   "metadata": {},
   "outputs": [],
   "source": [
    "d = sdf.read(fname)\n",
    "fields = d.__dict__"
   ]
  },
  {
   "cell_type": "code",
   "execution_count": null,
   "metadata": {},
   "outputs": [],
   "source": [
    "list_sdf_variables(d)"
   ]
  },
  {
   "cell_type": "code",
   "execution_count": null,
   "metadata": {},
   "outputs": [],
   "source": [
    "head = d.Header\n",
    "for k, v in head.items():\n",
    "    print(k, v)"
   ]
  },
  {
   "cell_type": "code",
   "execution_count": null,
   "metadata": {},
   "outputs": [],
   "source": [
    "# N_ele are the accelerated electrons, from the Nitrogen K-shell\n",
    "# particle momenta\n",
    "px = fields['Particles_Px_N_ele'].data\n",
    "py = fields['Particles_Py_N_ele'].data\n",
    "pz = fields['Particles_Pz_N_ele'].data\n",
    "# particle weights\n",
    "w = fields['Particles_Weight_N_ele'].data\n",
    "# particle positions\n",
    "(x, y, z) = fields['Grid_Particles_N_ele'].data"
   ]
  },
  {
   "cell_type": "code",
   "execution_count": null,
   "metadata": {},
   "outputs": [],
   "source": [
    "#string = 'Derived_Number_Density_N_ele'\n",
    "#t = fields[string]\n",
    "#t.units"
   ]
  },
  {
   "cell_type": "code",
   "execution_count": null,
   "metadata": {},
   "outputs": [],
   "source": [
    "# load the electric field components\n",
    "ex = fields['Electric_Field_Ex']\n",
    "ey = fields['Electric_Field_Ey']\n",
    "ez = fields['Electric_Field_Ez']"
   ]
  },
  {
   "cell_type": "code",
   "execution_count": null,
   "metadata": {},
   "outputs": [],
   "source": [
    "# load the K-shell Nitrogen electrons\n",
    "nNele = d.__dict__['Derived_Number_Density_N_ele']\n",
    "rho = nNele.data"
   ]
  },
  {
   "cell_type": "code",
   "execution_count": null,
   "metadata": {},
   "outputs": [],
   "source": [
    "# get the simulation box\n",
    "(xx, yy, zz) = fields['Grid_Grid'].data\n",
    "# get bounds\n",
    "xx_min = xx.min()\n",
    "xx_max = xx.max()\n",
    "yy_min = yy.min()\n",
    "yy_max = yy.max()\n",
    "zz_min = zz.min()\n",
    "zz_max = zz.max()\n",
    "bbox = np.array([[xx_min, xx_max], [yy_min, yy_max], [zz_min, zz_max]])"
   ]
  },
  {
   "cell_type": "code",
   "execution_count": null,
   "metadata": {},
   "outputs": [],
   "source": [
    "data = dict(number_density = (rho, '1/m**3'),\n",
    "            particle_position_x = (x, 'm'), \n",
    "            particle_position_y = (y, 'm'),\n",
    "            particle_position_z = (z, 'm'),\n",
    "            particle_momentum_x = (px, 'kg*m/s'),\n",
    "            particle_momentum_y = (py, 'kg*m/s'),\n",
    "            particle_momentum_z = (pz, 'kg*m/s'),\n",
    "            particle_weighting = (w, ''),\n",
    "            electric_field_x = (ex.data, 'V/m'),\n",
    "            electric_field_y = (ey.data, 'V/m'),\n",
    "            electric_field_z = (ez.data, 'V/m')\n",
    "           ) "
   ]
  },
  {
   "cell_type": "code",
   "execution_count": null,
   "metadata": {},
   "outputs": [],
   "source": [
    "ds = yt.load_uniform_grid(data, data['number_density'][0].shape, bbox=bbox, nprocs=4,\n",
    "                          length_unit='m', mass_unit='kg', time_unit='s', velocity_unit='m/s', unit_system='mks')"
   ]
  },
  {
   "cell_type": "code",
   "execution_count": null,
   "metadata": {},
   "outputs": [],
   "source": [
    "print(ds.domain_left_edge)\n",
    "print(ds.domain_right_edge)\n",
    "print(ds.domain_width)"
   ]
  },
  {
   "cell_type": "code",
   "execution_count": null,
   "metadata": {},
   "outputs": [],
   "source": [
    "def _magnitude(field, data):\n",
    "    return np.sqrt(data['electric_field_x']**2 + data['electric_field_y']**2 + data['electric_field_z']**2)"
   ]
  },
  {
   "cell_type": "code",
   "execution_count": null,
   "metadata": {},
   "outputs": [],
   "source": [
    "ds.add_field(('stream', 'electric_field_magnitude'), units='V/m', function=_magnitude, sampling_type='cell')"
   ]
  },
  {
   "cell_type": "code",
   "execution_count": null,
   "metadata": {},
   "outputs": [],
   "source": [
    "#ds.derived_field_list"
   ]
  },
  {
   "cell_type": "code",
   "execution_count": null,
   "metadata": {},
   "outputs": [],
   "source": [
    "# plot the density, integrating over z\n",
    "prj = yt.ProjectionPlot(ds, \"z\", 'number_density', origin='native', aspect=6/9)\n",
    "prj.set_log(\"number_density\", False);\n",
    "#prj.annotate_particles((5e-6, 'm'), ptype='all', col='r', alpha=0.05)\n",
    "#prj.set_axes_unit('m')\n",
    "prj.set_buff_size(500)\n",
    "prj.set_figure_size(5.8)\n",
    "prj.set_font_size(22)\n",
    "prj.save('density_z.png', mpl_kwargs={'facecolor': 'none', 'edgecolor': 'none', 'dpi': 500})"
   ]
  },
  {
   "cell_type": "code",
   "execution_count": null,
   "metadata": {},
   "outputs": [],
   "source": [
    "#import yt.visualization.eps_writer as eps"
   ]
  },
  {
   "cell_type": "code",
   "execution_count": null,
   "metadata": {},
   "outputs": [],
   "source": [
    "#eps_fig = eps.single_plot(prj)\n",
    "#eps_fig.save_fig('zoom-pdf', format='pdf')"
   ]
  },
  {
   "cell_type": "code",
   "execution_count": null,
   "metadata": {},
   "outputs": [],
   "source": [
    "#eps_fig = eps.multiplot_yt(1, 2, [prj, prj])\n",
    "#eps_fig.save_fig('multi', format='pdf')"
   ]
  },
  {
   "cell_type": "code",
   "execution_count": null,
   "metadata": {},
   "outputs": [],
   "source": [
    "# plot the density, integrating over x\n",
    "prj = yt.ProjectionPlot(ds, \"x\", 'number_density', origin='native')\n",
    "prj.set_log(\"number_density\", False);\n",
    "#prj.annotate_particles((5e-6, 'm'), ptype='all', col='r', alpha=0.05)\n",
    "#prj.set_axes_unit('m')\n",
    "prj.set_buff_size(500)\n",
    "prj.set_figure_size(5.8)\n",
    "prj.set_font_size(22)\n",
    "prj.save('density_x.png', mpl_kwargs={'facecolor': 'none', 'edgecolor': 'none', 'dpi': 500})"
   ]
  },
  {
   "cell_type": "code",
   "execution_count": null,
   "metadata": {},
   "outputs": [],
   "source": [
    "ppsx = yt.ParticlePlot(ds, \n",
    "                                         ('all', 'particle_position_x'), \n",
    "                                         ('all', 'particle_momentum_x'), \n",
    "                                         ('all', 'particle_weighting'),\n",
    "                                         x_bins=800,\n",
    "                                         y_bins=800)\n",
    "#particle_phase_space_x.set_log('particle_weighting', False)\n",
    "#ppsx.set_buff_size(500)\n",
    "ppsx.set_unit('particle_position_x', 'um')\n",
    "ppsx.set_ylabel('Momentum X')\n",
    "ppsx.set_figure_size(5.8)\n",
    "ppsx.set_font_size(22)\n",
    "ppsx.save('particles_x.png', mpl_kwargs={'facecolor': 'none', 'edgecolor': 'none', 'dpi': 500})\n",
    "\n",
    "ppsy = yt.ParticlePlot(ds, \n",
    "                                         ('all', 'particle_position_y'), \n",
    "                                         ('all', 'particle_momentum_y'), \n",
    "                                         ('all', 'particle_weighting'),\n",
    "                                         x_bins=800,\n",
    "                                         y_bins=800)\n",
    "#particle_phase_space_y.set_log('particle_weighting', False);\n",
    "#ppsy.set_buff_size(500)\n",
    "ppsy.set_unit('particle_position_y', 'um')\n",
    "ppsy.set_ylabel('Momentum Y')\n",
    "ppsy.set_figure_size(5.8)\n",
    "ppsy.set_font_size(22)\n",
    "ppsy.save('particles_y.png', mpl_kwargs={'facecolor': 'none', 'edgecolor': 'none', 'dpi': 500})"
   ]
  },
  {
   "cell_type": "code",
   "execution_count": null,
   "metadata": {},
   "outputs": [],
   "source": [
    "particle_phase_space_x"
   ]
  },
  {
   "cell_type": "code",
   "execution_count": null,
   "metadata": {},
   "outputs": [],
   "source": [
    "particle_phase_space_y"
   ]
  },
  {
   "cell_type": "code",
   "execution_count": null,
   "metadata": {},
   "outputs": [],
   "source": [
    "from mpl_toolkits.axes_grid1 import AxesGrid\n",
    "\n",
    "fig = plt.figure()\n",
    "\n",
    "# See http://matplotlib.org/mpl_toolkits/axes_grid/api/axes_grid_api.html\n",
    "# These choices of keyword arguments produce a four panel plot that includes\n",
    "# four narrow colorbars, one for each plot.  Axes labels are only drawn on the\n",
    "# bottom left hand plot to avoid repeating information and make the plot less\n",
    "# cluttered.\n",
    "grid = AxesGrid(fig, (0.075,0.075,0.85,0.85),\n",
    "                nrows_ncols = (2, 2),\n",
    "                axes_pad = 1.0,\n",
    "                label_mode = \"1\",\n",
    "                share_all = True,\n",
    "                cbar_location=\"right\",\n",
    "                cbar_mode=\"each\",\n",
    "                cbar_size=\"3%\",\n",
    "                cbar_pad=\"0%\")\n",
    "\n",
    "fields = ['electric_field_x', 'electric_field_y', 'electric_field_z', 'electric_field_magnitude']\n",
    "\n",
    "# Create the plot.  Since SlicePlot accepts a list of fields, we need only\n",
    "# do this once.\n",
    "p = yt.SlicePlot(ds, 'z', fields, origin='native', aspect=6/9)\n",
    "p.set_axes_unit('m')\n",
    "\n",
    "# Velocity is going to be both positive and negative, so let's make these\n",
    "# slices use a linear colorbar scale\n",
    "p.set_log('electric_field_x', False)\n",
    "p.set_log('electric_field_y', False)\n",
    "p.set_log('electric_field_z', False)\n",
    "# p.annotate_streamlines('electric_field_x', 'electric_field_y')\n",
    "# p.set_log('electric_field_magnitude', False)\n",
    "\n",
    "# p.zoom(2)\n",
    "\n",
    "# For each plotted field, force the SlicePlot to redraw itself onto the AxesGrid\n",
    "# axes.\n",
    "for i, field in enumerate(fields):\n",
    "    plot = p.plots[field]\n",
    "    plot.figure = fig\n",
    "    plot.axes = grid[i].axes\n",
    "    plot.cax = grid.cbar_axes[i]\n",
    "\n",
    "# Finally, redraw the plot on the AxesGrid axes.\n",
    "p._setup_plots()\n",
    "\n",
    "plt.savefig('multiplot_2x2.png')"
   ]
  },
  {
   "cell_type": "code",
   "execution_count": null,
   "metadata": {},
   "outputs": [],
   "source": [
    "slc = yt.SlicePlot(ds, 'z', 'electric_field_magnitude', origin='native', aspect=6/20)\n",
    "#slc.set_axes_unit('m')   \n",
    "#slc.annotate_streamlines('electric_field_x', 'electric_field_y')\n",
    "slc.annotate_line_integral_convolution('electric_field_x', 'electric_field_y', lim=(0.4,0.65))\n",
    "#slc.set_log('electric_field_magnitude', False)\n",
    "slc.set_figure_size(6.8)\n",
    "slc.set_font_size(20)\n",
    "slc.save('magnitude.png', mpl_kwargs={'facecolor': 'none', 'edgecolor': 'none', 'dpi': 500})"
   ]
  },
  {
   "cell_type": "code",
   "execution_count": null,
   "metadata": {},
   "outputs": [],
   "source": [
    "slc"
   ]
  },
  {
   "cell_type": "code",
   "execution_count": null,
   "metadata": {},
   "outputs": [],
   "source": [
    "# volume rendering"
   ]
  },
  {
   "cell_type": "code",
   "execution_count": null,
   "metadata": {},
   "outputs": [],
   "source": [
    "# for loading images from disk into the notebook\n",
    "from IPython.display import Image"
   ]
  },
  {
   "cell_type": "code",
   "execution_count": null,
   "metadata": {},
   "outputs": [],
   "source": [
    "xx_cent = center_linspace(xx)\n",
    "xx_cent_min = xx_cent.min()\n",
    "xx_cent_max = xx_cent.max()\n",
    "bbox = np.array([[xx_cent_min, xx_cent_max], [yy_min, yy_max], [zz_min, zz_max]])"
   ]
  },
  {
   "cell_type": "code",
   "execution_count": null,
   "metadata": {},
   "outputs": [],
   "source": [
    "data = dict(number_density = (rho, '1/m**3'),\n",
    "            electric_field_x = (ex.data, 'V/m'),\n",
    "            electric_field_y = (ey.data, 'V/m'),\n",
    "            electric_field_z = (ez.data, 'V/m')\n",
    "           ) "
   ]
  },
  {
   "cell_type": "code",
   "execution_count": null,
   "metadata": {},
   "outputs": [],
   "source": [
    "ds = yt.load_uniform_grid(data, data['number_density'][0].shape, length_unit='m', unit_system='mks',\n",
    "                          bbox=bbox, nprocs=4)"
   ]
  },
  {
   "cell_type": "code",
   "execution_count": null,
   "metadata": {},
   "outputs": [],
   "source": [
    "print(ds.domain_left_edge)\n",
    "print(ds.domain_right_edge)\n",
    "print(ds.domain_width)"
   ]
  },
  {
   "cell_type": "code",
   "execution_count": null,
   "metadata": {},
   "outputs": [],
   "source": [
    "# turn the original 3D array into 1D\n",
    "flat_n = rho.flatten()\n",
    "# fix negative logarith values\n",
    "flat_n[flat_n < 1.] = 1.\n",
    "\n",
    "# histogram of the logarithm of n_{N_{ele}}\n",
    "fig, ax = plt.subplots()\n",
    "ax.hist(np.log10(flat_n), bins='auto', range=(18, 25), fc='gray', histtype='stepfilled', alpha=0.3, normed=True);\n",
    "ax.set_ylabel('Density function')\n",
    "ax.set_xlabel(r'$\\log_{10}(n_{N_{ele}})$');"
   ]
  },
  {
   "cell_type": "code",
   "execution_count": null,
   "metadata": {},
   "outputs": [],
   "source": [
    "sc = yt.create_scene(ds, 'number_density', lens_type='perspective')\n",
    "\n",
    "# Get a reference to the VolumeSource associated with this scene\n",
    "# It is the first source associated with the scene, so we can refer to it\n",
    "# using index 0.\n",
    "source = sc[0]\n",
    "\n",
    "# Set the bounds of the transfer function\n",
    "source.tfh.set_bounds((1e21, 1e24))\n",
    "\n",
    "# set that the transfer function should be evaluated in log space\n",
    "source.tfh.set_log(True)\n",
    "\n",
    "# Do not make underdense regions appear opaque\n",
    "source.tfh.grey_opacity = False\n",
    "\n",
    "# Plot the transfer function, along with the CDF of the density field to\n",
    "# see how the transfer function corresponds to structure in the CDF\n",
    "source.tfh.plot('transfer_function.png', profile_field='number_density')\n",
    "\n",
    "sc.annotate_axes(alpha=0.5)\n",
    "\n",
    "cam = sc.add_camera(ds, lens_type='perspective')\n",
    "cam.rotate(np.pi/6, rot_center=np.array([0.0, 0.0, 0.0]))\n",
    "cam.zoom(1.5)\n",
    "cam.resolution = (4666, 4666)\n",
    "\n",
    "#sc.annotate_domain(ds, color=[1, 1, 1, 1])\n",
    "\n",
    "\n",
    "# save the image, flooring especially bright pixels for better contrast\n",
    "sc.save('nNele.png', sigma_clip=3.0)"
   ]
  },
  {
   "cell_type": "code",
   "execution_count": null,
   "metadata": {},
   "outputs": [],
   "source": [
    "Image(filename='nNele.png', width=512, height=512)"
   ]
  },
  {
   "cell_type": "code",
   "execution_count": null,
   "metadata": {},
   "outputs": [],
   "source": [
    "import ipyvolume as ipv # simple, decent"
   ]
  },
  {
   "cell_type": "code",
   "execution_count": null,
   "metadata": {},
   "outputs": [],
   "source": [
    "ipv.quickvolshow(rho.T, lighting=True)"
   ]
  },
  {
   "cell_type": "code",
   "execution_count": null,
   "metadata": {},
   "outputs": [],
   "source": [
    "Image(filename='transfer_function.png')"
   ]
  },
  {
   "cell_type": "markdown",
   "metadata": {},
   "source": [
    "Unused code follows."
   ]
  },
  {
   "cell_type": "code",
   "execution_count": null,
   "metadata": {},
   "outputs": [],
   "source": [
    "exdata = ex.data[:,:,ex.data.shape[-1]//2]\n",
    "psi = np.zeros_like(exdata)\n",
    "\n",
    "for i in range(psi.shape[0]-2, -1, -1):\n",
    "    psi[i,:] = psi[i + 1,:] + exdata[i, :]\n",
    "\n",
    "dx = xx[1] - xx[0]\n",
    "psi = psi * dx / 510998.946"
   ]
  },
  {
   "cell_type": "code",
   "execution_count": null,
   "metadata": {},
   "outputs": [],
   "source": [
    "# wake pseudo potential\n",
    "fig, ax = plt.subplots()\n",
    "img = ax.imshow(psi.T, origin='lower', interpolation='none',\n",
    "                extent=np.array([xx.min(), xx.max(), yy.min(), yy.max()]),\n",
    "                aspect='auto')\n",
    " \n",
    "ax.set_xlabel(ex.grid_mid.labels[0] + ' [m]', labelpad=-1)\n",
    "ax.set_ylabel(ex.grid_mid.labels[1] + ' [m]', labelpad=0)\n",
    "\n",
    "cbar = colorbar(img)\n",
    "cbar.set_label(r'$\\Psi$')"
   ]
  },
  {
   "cell_type": "code",
   "execution_count": null,
   "metadata": {},
   "outputs": [],
   "source": [
    "squeezed_data = np.squeeze(np.sum(np.abs(ey.data),axis=0))"
   ]
  },
  {
   "cell_type": "code",
   "execution_count": null,
   "metadata": {},
   "outputs": [],
   "source": [
    "fig, ax = plt.subplots()\n",
    "img = ax.imshow(squeezed_data.T, origin='lower', interpolation='none',\n",
    "                extent=np.array([yy.min(), yy.max(), zz.min(), zz.max()]),\n",
    "                aspect='auto')\n",
    " \n",
    "ax.set_xlabel(ey.grid_mid.labels[1] + ' [m]', labelpad=-1)\n",
    "ax.set_ylabel(ey.grid_mid.labels[2] + ' [m]', labelpad=0)\n",
    "\n",
    "cbar = colorbar(img)\n",
    "cbar.set_label(ey.name + r' $(' + ey.units + r')$')"
   ]
  },
  {
   "cell_type": "code",
   "execution_count": null,
   "metadata": {},
   "outputs": [],
   "source": [
    "fig, ax = plt.subplots()\n",
    "ax.plot(yy, squeezed_data[:, ey.data.shape[-2]//2])\n",
    "ax.set_xlabel(ey.grid_mid.labels[1] + ' [m]', labelpad=0)\n",
    "ax.set_ylabel(ey.name + r' $(' + ey.units + r')$');"
   ]
  },
  {
   "cell_type": "code",
   "execution_count": null,
   "metadata": {},
   "outputs": [],
   "source": [
    "def _abs(field, data):\n",
    "    return np.abs(data['electric_field_y'])"
   ]
  },
  {
   "cell_type": "code",
   "execution_count": null,
   "metadata": {},
   "outputs": [],
   "source": [
    "ds.add_field(('stream', 'electric_field_y_abs'), units='V/m', function=_abs, sampling_type='cell')"
   ]
  },
  {
   "cell_type": "code",
   "execution_count": null,
   "metadata": {},
   "outputs": [],
   "source": [
    "proj = ds.proj('electric_field_y_abs', 'x')\n",
    "frb = proj.to_frb(ds.domain_width[1], ey.data.shape[1])\n",
    "squeezed_data = frb['electric_field_y_abs']"
   ]
  },
  {
   "cell_type": "code",
   "execution_count": null,
   "metadata": {},
   "outputs": [],
   "source": [
    "ad = ds.all_data()\n",
    "phaseplot_z = yt.ParticlePhasePlot(ad, \n",
    "                                   ('all', 'particle_position_x'), \n",
    "                                   ('all', 'particle_position_y'), \n",
    "                                   ('all', 'particle_weighting'))"
   ]
  },
  {
   "cell_type": "code",
   "execution_count": null,
   "metadata": {},
   "outputs": [],
   "source": [
    "phaseplot_z"
   ]
  }
 ],
 "metadata": {
  "kernelspec": {
   "display_name": "Python 3",
   "language": "python",
   "name": "python3"
  },
  "language_info": {
   "codemirror_mode": {
    "name": "ipython",
    "version": 3
   },
   "file_extension": ".py",
   "mimetype": "text/x-python",
   "name": "python",
   "nbconvert_exporter": "python",
   "pygments_lexer": "ipython3",
   "version": "3.6.4"
  }
 },
 "nbformat": 4,
 "nbformat_minor": 2
}
