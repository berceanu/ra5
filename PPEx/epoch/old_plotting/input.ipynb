{
 "cells": [
  {
   "cell_type": "code",
   "execution_count": 1,
   "metadata": {},
   "outputs": [],
   "source": [
    "file = '/home/berceanu/Development/pic/ming_jobs/ep_III3D1/3dinput.deck'"
   ]
  },
  {
   "cell_type": "code",
   "execution_count": 2,
   "metadata": {},
   "outputs": [],
   "source": [
    "# !cat /home/berceanu/Development/pic/ming_jobs/ep_III3D1/3dinput.deck"
   ]
  },
  {
   "cell_type": "code",
   "execution_count": 3,
   "metadata": {},
   "outputs": [],
   "source": [
    "from sympy import pi, sqrt, exp"
   ]
  },
  {
   "cell_type": "code",
   "execution_count": 4,
   "metadata": {},
   "outputs": [],
   "source": [
    "from sympy.physics.units import Quantity\n",
    "from sympy.physics.units.util import convert_to\n",
    "from sympy.physics.units.dimensions import length, mass, frequency, time, charge, energy, mass, voltage, power\n",
    "from sympy.physics.units.prefixes import pico, femto, micro, peta, tera, giga\n",
    "from sympy.physics.units.definitions import meter, micrometer, centimeter, nanometer, hertz, joule, watt, second, coulomb, volt, farad, kilogram, radian\n",
    "from sympy.physics.units.definitions import speed_of_light, electric_constant"
   ]
  },
  {
   "cell_type": "code",
   "execution_count": 80,
   "metadata": {},
   "outputs": [],
   "source": [
    "# define fs, PHz\n",
    "fs = femtosecond = femtoseconds = Quantity(\"femtosecond\", time, femto*second, \"fs\")\n",
    "ps = picosecond = picoseconds = Quantity(\"picosecond\", time, pico*second, 'ps')\n",
    "PHz = petahertz = petahertzs = Quantity(\"petahertz\", frequency, peta*hertz)\n",
    "THz = terahertz = terahertzs = Quantity(\"terahertz\", frequency, tera*hertz)\n",
    "TV = teravolt = teravolts = Quantity(\"teravolt\", voltage, tera*volt)\n",
    "TW = terawatt = terawatts = Quantity(\"terawatt\", power, tera*watt)\n",
    "GW = gigawatt = gigawatts = Quantity(\"gigawatt\", power, giga*watt)"
   ]
  },
  {
   "cell_type": "code",
   "execution_count": 6,
   "metadata": {},
   "outputs": [],
   "source": [
    "# define the elementary (electron) charge \n",
    "from scipy.constants import elementary_charge as ec\n",
    "qe = elementary_charge = Quantity(\"elementary_charge\", charge, ec*coulomb)"
   ]
  },
  {
   "cell_type": "code",
   "execution_count": 7,
   "metadata": {},
   "outputs": [],
   "source": [
    "# define electron mass\n",
    "from scipy.constants import electron_mass as em\n",
    "me = electron_mass = Quantity(\"electron_mass\", mass, em*kilogram)"
   ]
  },
  {
   "cell_type": "code",
   "execution_count": 8,
   "metadata": {},
   "outputs": [],
   "source": [
    "# shorter names\n",
    "c = speed_of_light\n",
    "e0 = electric_constant"
   ]
  },
  {
   "cell_type": "code",
   "execution_count": 10,
   "metadata": {},
   "outputs": [],
   "source": [
    "def critical(freq):\n",
    "    \"\"\"Returns critical density for a given frequency\"\"\"\n",
    "    return (freq**2 * me * e0) / (qe**2)"
   ]
  },
  {
   "cell_type": "code",
   "execution_count": 19,
   "metadata": {},
   "outputs": [
    {
     "data": {
      "text/plain": [
       "electron_rho"
      ]
     },
     "execution_count": 19,
     "metadata": {},
     "output_type": "execute_result"
    }
   ],
   "source": [
    "rho_ele.n()"
   ]
  },
  {
   "cell_type": "code",
   "execution_count": 21,
   "metadata": {},
   "outputs": [
    {
     "data": {
      "text/plain": [
       "vacuum_permittivity"
      ]
     },
     "execution_count": 21,
     "metadata": {},
     "output_type": "execute_result"
    }
   ],
   "source": [
    "e0"
   ]
  },
  {
   "cell_type": "code",
   "execution_count": 26,
   "metadata": {},
   "outputs": [
    {
     "data": {
      "text/plain": [
       "electron_rho"
      ]
     },
     "execution_count": 26,
     "metadata": {},
     "output_type": "execute_result"
    }
   ],
   "source": [
    "rho_ele"
   ]
  },
  {
   "cell_type": "code",
   "execution_count": 46,
   "metadata": {},
   "outputs": [],
   "source": [
    "rho_ele = Quantity(\"electron_rho\", 1/length**3, 7.11e+18/centimeter**3)"
   ]
  },
  {
   "cell_type": "code",
   "execution_count": 47,
   "metadata": {},
   "outputs": [
    {
     "data": {
      "text/plain": [
       "7.11e+18/centimeter**3"
      ]
     },
     "execution_count": 47,
     "metadata": {},
     "output_type": "execute_result"
    }
   ],
   "source": [
    "convert_to(rho_ele, centimeter**3).n()"
   ]
  },
  {
   "cell_type": "code",
   "execution_count": 48,
   "metadata": {},
   "outputs": [],
   "source": [
    "# plasma frequency\n",
    "pl_freq = sqrt(rho_ele * (qe**2) / (me * e0))\n",
    "convert_to(pl_freq, THz).n()"
   ]
  },
  {
   "cell_type": "code",
   "execution_count": 54,
   "metadata": {},
   "outputs": [
    {
     "data": {
      "text/plain": [
       "12.5220155933125*micrometer"
      ]
     },
     "execution_count": 54,
     "metadata": {},
     "output_type": "execute_result"
    }
   ],
   "source": [
    "# plasma wavelength\n",
    "pl_wavelength = 2 * pi * c/ pl_freq\n",
    "convert_to(pl_wavelength, micrometer).n()"
   ]
  },
  {
   "cell_type": "code",
   "execution_count": 57,
   "metadata": {},
   "outputs": [],
   "source": [
    "# normalized vector potential\n",
    "a0 = 3"
   ]
  },
  {
   "cell_type": "code",
   "execution_count": 70,
   "metadata": {},
   "outputs": [
    {
     "data": {
      "text/plain": [
       "6.724277415232*micrometer"
      ]
     },
     "execution_count": 70,
     "metadata": {},
     "output_type": "execute_result"
    }
   ],
   "source": [
    "# beam size\n",
    "r0 = 2 * sqrt(pl_wavelength**2 / (4*pi**2) * a0**2 / sqrt(1 + a0**2))\n",
    "convert_to(r0, micrometer).n()"
   ]
  },
  {
   "cell_type": "code",
   "execution_count": 71,
   "metadata": {},
   "outputs": [
    {
     "ename": "TypeError",
     "evalue": "name should be a string, not <class 'float'>",
     "output_type": "error",
     "traceback": [
      "\u001b[0;31m---------------------------------------------------------------------------\u001b[0m",
      "\u001b[0;31mTypeError\u001b[0m                                 Traceback (most recent call last)",
      "\u001b[0;32m<ipython-input-71-670bea517480>\u001b[0m in \u001b[0;36m<module>\u001b[0;34m()\u001b[0m\n\u001b[1;32m      1\u001b[0m \u001b[0;31m# do we resolve plasma wavelength?\u001b[0m\u001b[0;34m\u001b[0m\u001b[0;34m\u001b[0m\u001b[0m\n\u001b[0;32m----> 2\u001b[0;31m \u001b[0mCELL_WIDTH_SI\u001b[0m \u001b[0;34m=\u001b[0m \u001b[0mQuantity\u001b[0m\u001b[0;34m(\u001b[0m\u001b[0;36m0.1772e-6\u001b[0m\u001b[0;34m,\u001b[0m \u001b[0mlength\u001b[0m\u001b[0;34m,\u001b[0m \u001b[0mmeter\u001b[0m\u001b[0;34m)\u001b[0m\u001b[0;34m\u001b[0m\u001b[0m\n\u001b[0m",
      "\u001b[0;32m~/miniconda3/envs/scipy/lib/python3.6/site-packages/sympy/physics/units/quantities.py\u001b[0m in \u001b[0;36m__new__\u001b[0;34m(cls, name, dimension, scale_factor, abbrev, **assumptions)\u001b[0m\n\u001b[1;32m     28\u001b[0m \u001b[0;34m\u001b[0m\u001b[0m\n\u001b[1;32m     29\u001b[0m         \u001b[0;32mif\u001b[0m \u001b[0;32mnot\u001b[0m \u001b[0misinstance\u001b[0m\u001b[0;34m(\u001b[0m\u001b[0mname\u001b[0m\u001b[0;34m,\u001b[0m \u001b[0mSymbol\u001b[0m\u001b[0;34m)\u001b[0m\u001b[0;34m:\u001b[0m\u001b[0;34m\u001b[0m\u001b[0m\n\u001b[0;32m---> 30\u001b[0;31m             \u001b[0mname\u001b[0m \u001b[0;34m=\u001b[0m \u001b[0mSymbol\u001b[0m\u001b[0;34m(\u001b[0m\u001b[0mname\u001b[0m\u001b[0;34m)\u001b[0m\u001b[0;34m\u001b[0m\u001b[0m\n\u001b[0m\u001b[1;32m     31\u001b[0m \u001b[0;34m\u001b[0m\u001b[0m\n\u001b[1;32m     32\u001b[0m         \u001b[0;32mif\u001b[0m \u001b[0;32mnot\u001b[0m \u001b[0misinstance\u001b[0m\u001b[0;34m(\u001b[0m\u001b[0mdimension\u001b[0m\u001b[0;34m,\u001b[0m \u001b[0mdimensions\u001b[0m\u001b[0;34m.\u001b[0m\u001b[0mDimension\u001b[0m\u001b[0;34m)\u001b[0m\u001b[0;34m:\u001b[0m\u001b[0;34m\u001b[0m\u001b[0m\n",
      "\u001b[0;32m~/miniconda3/envs/scipy/lib/python3.6/site-packages/sympy/core/symbol.py\u001b[0m in \u001b[0;36m__new__\u001b[0;34m(cls, name, **assumptions)\u001b[0m\n\u001b[1;32m    100\u001b[0m         \"\"\"\n\u001b[1;32m    101\u001b[0m         \u001b[0mcls\u001b[0m\u001b[0;34m.\u001b[0m\u001b[0m_sanitize\u001b[0m\u001b[0;34m(\u001b[0m\u001b[0massumptions\u001b[0m\u001b[0;34m,\u001b[0m \u001b[0mcls\u001b[0m\u001b[0;34m)\u001b[0m\u001b[0;34m\u001b[0m\u001b[0m\n\u001b[0;32m--> 102\u001b[0;31m         \u001b[0;32mreturn\u001b[0m \u001b[0mSymbol\u001b[0m\u001b[0;34m.\u001b[0m\u001b[0m__xnew_cached_\u001b[0m\u001b[0;34m(\u001b[0m\u001b[0mcls\u001b[0m\u001b[0;34m,\u001b[0m \u001b[0mname\u001b[0m\u001b[0;34m,\u001b[0m \u001b[0;34m**\u001b[0m\u001b[0massumptions\u001b[0m\u001b[0;34m)\u001b[0m\u001b[0;34m\u001b[0m\u001b[0m\n\u001b[0m\u001b[1;32m    103\u001b[0m \u001b[0;34m\u001b[0m\u001b[0m\n\u001b[1;32m    104\u001b[0m     \u001b[0;32mdef\u001b[0m \u001b[0m__new_stage2__\u001b[0m\u001b[0;34m(\u001b[0m\u001b[0mcls\u001b[0m\u001b[0;34m,\u001b[0m \u001b[0mname\u001b[0m\u001b[0;34m,\u001b[0m \u001b[0;34m**\u001b[0m\u001b[0massumptions\u001b[0m\u001b[0;34m)\u001b[0m\u001b[0;34m:\u001b[0m\u001b[0;34m\u001b[0m\u001b[0m\n",
      "\u001b[0;32m~/miniconda3/envs/scipy/lib/python3.6/site-packages/sympy/core/symbol.py\u001b[0m in \u001b[0;36m__new_stage2__\u001b[0;34m(cls, name, **assumptions)\u001b[0m\n\u001b[1;32m    104\u001b[0m     \u001b[0;32mdef\u001b[0m \u001b[0m__new_stage2__\u001b[0m\u001b[0;34m(\u001b[0m\u001b[0mcls\u001b[0m\u001b[0;34m,\u001b[0m \u001b[0mname\u001b[0m\u001b[0;34m,\u001b[0m \u001b[0;34m**\u001b[0m\u001b[0massumptions\u001b[0m\u001b[0;34m)\u001b[0m\u001b[0;34m:\u001b[0m\u001b[0;34m\u001b[0m\u001b[0m\n\u001b[1;32m    105\u001b[0m         \u001b[0;32mif\u001b[0m \u001b[0;32mnot\u001b[0m \u001b[0misinstance\u001b[0m\u001b[0;34m(\u001b[0m\u001b[0mname\u001b[0m\u001b[0;34m,\u001b[0m \u001b[0mstring_types\u001b[0m\u001b[0;34m)\u001b[0m\u001b[0;34m:\u001b[0m\u001b[0;34m\u001b[0m\u001b[0m\n\u001b[0;32m--> 106\u001b[0;31m             \u001b[0;32mraise\u001b[0m \u001b[0mTypeError\u001b[0m\u001b[0;34m(\u001b[0m\u001b[0;34m\"name should be a string, not %s\"\u001b[0m \u001b[0;34m%\u001b[0m \u001b[0mrepr\u001b[0m\u001b[0;34m(\u001b[0m\u001b[0mtype\u001b[0m\u001b[0;34m(\u001b[0m\u001b[0mname\u001b[0m\u001b[0;34m)\u001b[0m\u001b[0;34m)\u001b[0m\u001b[0;34m)\u001b[0m\u001b[0;34m\u001b[0m\u001b[0m\n\u001b[0m\u001b[1;32m    107\u001b[0m \u001b[0;34m\u001b[0m\u001b[0m\n\u001b[1;32m    108\u001b[0m         \u001b[0mobj\u001b[0m \u001b[0;34m=\u001b[0m \u001b[0mExpr\u001b[0m\u001b[0;34m.\u001b[0m\u001b[0m__new__\u001b[0m\u001b[0;34m(\u001b[0m\u001b[0mcls\u001b[0m\u001b[0;34m)\u001b[0m\u001b[0;34m\u001b[0m\u001b[0m\n",
      "\u001b[0;31mTypeError\u001b[0m: name should be a string, not <class 'float'>"
     ]
    }
   ],
   "source": [
    "# do we resolve plasma wavelength?\n",
    "CELL_WIDTH_SI = Quantity(0.1772e-6, length, meter)\n"
   ]
  },
  {
   "cell_type": "code",
   "execution_count": 82,
   "metadata": {},
   "outputs": [
    {
     "data": {
      "text/plain": [
       "2.7e-14*second"
      ]
     },
     "execution_count": 82,
     "metadata": {},
     "output_type": "execute_result"
    }
   ],
   "source": [
    "pd = Quantity('pulse_duration', time, 27 *fs)\n",
    "convert_to(pd, second).n()"
   ]
  },
  {
   "cell_type": "code",
   "execution_count": 84,
   "metadata": {},
   "outputs": [
    {
     "data": {
      "text/plain": [
       "80.94396366*micrometer"
      ]
     },
     "execution_count": 84,
     "metadata": {},
     "output_type": "execute_result"
    }
   ],
   "source": [
    "d = 10 * c * pd\n",
    "convert_to(d, micrometer).n()"
   ]
  },
  {
   "cell_type": "code",
   "execution_count": 88,
   "metadata": {},
   "outputs": [
    {
     "data": {
      "text/plain": [
       "4096"
      ]
     },
     "execution_count": 88,
     "metadata": {},
     "output_type": "execute_result"
    }
   ],
   "source": [
    "2**12"
   ]
  },
  {
   "cell_type": "code",
   "execution_count": 11,
   "metadata": {},
   "outputs": [],
   "source": [
    "# define our own scale                    ^^^\n",
    "l0 = Quantity(\"plasma_skin_depth\", length, 5. * micrometer)\n",
    "t0 = Quantity(\"plasma_time_unit\", time, l0 / c)\n",
    "w0 = Quantity(\"plasma_frequency\", frequency, c / l0)\n",
    "rho0 = Quantity(\"density_unit\", 1/length**3, critical(w0))"
   ]
  },
  {
   "cell_type": "code",
   "execution_count": 12,
   "metadata": {},
   "outputs": [
    {
     "name": "stdout",
     "output_type": "stream",
     "text": [
      "plasma time unit =  16.6782047599076*femtosecond\n",
      "plasma frequency =  59.9584916*terahertz\n",
      "plasma density =  1.12958348939313e+18/centimeter**3\n"
     ]
    }
   ],
   "source": [
    "print('plasma time unit = ',convert_to(t0, fs))\n",
    "print('plasma frequency = ', convert_to(w0, THz))\n",
    "print('plasma density = ', convert_to(rho0, centimeter**3).n())"
   ]
  },
  {
   "cell_type": "code",
   "execution_count": 35,
   "metadata": {
    "collapsed": true
   },
   "outputs": [],
   "source": [
    "# laser parameters\n",
    "# laser strength parameter\n",
    "laser_a0 = 3.\n",
    "laser_wavelength = l0 / 6.25\n",
    "laser_omega = 2 * pi * c / laser_wavelength # ras/s\n",
    "laser_frequency = laser_omega / (2*pi)\n",
    "# waist at focus, r_0\n",
    "laser_waist = 2. * sqrt(laser_a0) * l0 * 1.4\n",
    "laser_duration = 2. * sqrt(laser_a0) * t0 * 0.4\n",
    "# amplitude of the electric field\n",
    "laser_amp = laser_a0 * laser_omega * (me * c / qe)\n",
    "laser_intensity = (c * e0) / 2 * laser_amp**2\n",
    "laser_power = laser_intensity * (pi * laser_waist**2 / 2)\n",
    "laser_energy = laser_power * laser_duration"
   ]
  },
  {
   "cell_type": "code",
   "execution_count": 36,
   "metadata": {},
   "outputs": [
    {
     "name": "stdout",
     "output_type": "stream",
     "text": [
      "f =  374.7405725*terahertz\n",
      "w_0 =  24.2487113059643*micrometer\n",
      "E_L =  12.0401290169219*teravolt/meter\n",
      "I =  1.92398516344552e+19*watt/centimeter**2\n",
      "P =  177.704703059829*terawatt\n",
      "tau_0 =  23.1099984185576*femtosecond\n",
      "E =  4.1067554066829*joule\n",
      "lambda =  800.0*nanometer\n",
      "a_0 =  3.0\n"
     ]
    }
   ],
   "source": [
    "print('f = ', convert_to(laser_frequency, terahertz).n())\n",
    "print('w_0 = ', convert_to(laser_waist, micrometer))\n",
    "print('E_L = ', convert_to(laser_amp, teravolt/meter).n())\n",
    "print('I = ', convert_to(laser_intensity, watt/centimeter**2).n())\n",
    "print('P = ', convert_to(laser_power, terawatt).n())\n",
    "print('tau_0 = ', convert_to(laser_duration, femtosecond))\n",
    "print('E = ', convert_to(laser_energy, joule).n())\n",
    "print('lambda = ', convert_to(laser_wavelength, nanometer))\n",
    "print('a_0 = ', laser_a0)"
   ]
  },
  {
   "cell_type": "code",
   "execution_count": null,
   "metadata": {
    "collapsed": true
   },
   "outputs": [],
   "source": [
    "# time scales"
   ]
  },
  {
   "cell_type": "code",
   "execution_count": 66,
   "metadata": {
    "collapsed": true
   },
   "outputs": [],
   "source": [
    "time_end = 256 * t0 "
   ]
  },
  {
   "cell_type": "code",
   "execution_count": 103,
   "metadata": {},
   "outputs": [
    {
     "name": "stdout",
     "output_type": "stream",
     "text": [
      "simulation ends at  4269.62041853635*femtosecond\n"
     ]
    }
   ],
   "source": [
    "print('simulation ends at ', convert_to(time_end, femtosecond))"
   ]
  },
  {
   "cell_type": "code",
   "execution_count": null,
   "metadata": {
    "collapsed": true
   },
   "outputs": [],
   "source": [
    "#laser spatial profile"
   ]
  },
  {
   "cell_type": "code",
   "execution_count": null,
   "metadata": {
    "collapsed": true
   },
   "outputs": [],
   "source": [
    "def gauss(x, x0, w):\n",
    "    r\"\"\"Gaussian profile in variable ``x`` centered on ``x0`` with a characteristic width ``w``.\"\"\"\n",
    "    expr = np.exp(-((x - x0)/w)**2)\n",
    "    return expr"
   ]
  },
  {
   "cell_type": "code",
   "execution_count": 100,
   "metadata": {
    "collapsed": true
   },
   "outputs": [],
   "source": [
    "# laser temporal profile"
   ]
  },
  {
   "cell_type": "code",
   "execution_count": 101,
   "metadata": {},
   "outputs": [
    {
     "data": {
      "text/plain": [
       "50.8419965208268*femtosecond"
      ]
     },
     "execution_count": 101,
     "metadata": {},
     "output_type": "execute_result"
    }
   ],
   "source": [
    "# gaussian in time, centered at\n",
    "convert_to(2.2 * laser_duration, femtosecond)"
   ]
  },
  {
   "cell_type": "code",
   "execution_count": 74,
   "metadata": {
    "collapsed": true
   },
   "outputs": [],
   "source": [
    "# laser end time\n",
    "t_end = 6. * laser_duration "
   ]
  },
  {
   "cell_type": "code",
   "execution_count": 105,
   "metadata": {},
   "outputs": [
    {
     "data": {
      "text/plain": [
       "40.3767528248247*micrometer"
      ]
     },
     "execution_count": 105,
     "metadata": {},
     "output_type": "execute_result"
    }
   ],
   "source": [
    "# fwhm in y and z\n",
    "convert_to(2 * np.sqrt(np.log(2)) * laser_waist, micrometer)"
   ]
  },
  {
   "cell_type": "code",
   "execution_count": 102,
   "metadata": {},
   "outputs": [
    {
     "name": "stdout",
     "output_type": "stream",
     "text": [
      "lase full width at half maximum  38.4806714944345*femtosecond\n"
     ]
    }
   ],
   "source": [
    "fwhm = 2 * np.sqrt(np.log(2)) * laser_duration\n",
    "print('lase full width at half maximum ', convert_to(fwhm, femtosecond))"
   ]
  },
  {
   "cell_type": "code",
   "execution_count": 76,
   "metadata": {},
   "outputs": [
    {
     "name": "stdout",
     "output_type": "stream",
     "text": [
      "laser ends at  138.659990511346*femtosecond\n"
     ]
    }
   ],
   "source": [
    "print('laser ends at ', convert_to(t_end, femtosecond))"
   ]
  },
  {
   "cell_type": "code",
   "execution_count": null,
   "metadata": {
    "collapsed": true
   },
   "outputs": [],
   "source": [
    "# laser spatial profile\n",
    "profile = gauss(y, 0., laser_waist) * gauss(z, 0., laser_waist) * gauss(time, laser_duration * 2.2, laser_duration)\n"
   ]
  },
  {
   "cell_type": "code",
   "execution_count": null,
   "metadata": {
    "collapsed": true
   },
   "outputs": [],
   "source": [
    "# moving window"
   ]
  },
  {
   "cell_type": "code",
   "execution_count": 77,
   "metadata": {
    "collapsed": true
   },
   "outputs": [],
   "source": [
    "window_start_time = 12 * t0"
   ]
  },
  {
   "cell_type": "code",
   "execution_count": 78,
   "metadata": {},
   "outputs": [
    {
     "name": "stdout",
     "output_type": "stream",
     "text": [
      "window starts moving at  200.138457118891*femtosecond\n"
     ]
    }
   ],
   "source": [
    "print('window starts moving at ', convert_to(window_start_time, femtosecond))"
   ]
  },
  {
   "cell_type": "code",
   "execution_count": 80,
   "metadata": {},
   "outputs": [
    {
     "name": "stdout",
     "output_type": "stream",
     "text": [
      "time in the sdf is  2499.28687949978*femtosecond\n"
     ]
    }
   ],
   "source": [
    "# simulation file /home/berceanu/Development/pic/ming_jobs/ep_III3D1/0005.sdf is a snapshot taken at time\n",
    "t_file = Quantity(\"sdf_timestamp\", time, 2.4992868794997775e-12 * second)\n",
    "print('time in the sdf is ', convert_to(t_file, femtosecond))"
   ]
  },
  {
   "cell_type": "code",
   "execution_count": 37,
   "metadata": {
    "collapsed": true
   },
   "outputs": [],
   "source": [
    "# simulation box"
   ]
  },
  {
   "cell_type": "code",
   "execution_count": 81,
   "metadata": {
    "collapsed": true
   },
   "outputs": [],
   "source": [
    "def get_float_value(quantity):\n",
    "    r\"\"\"Given a quantity with units, returns just the floating point part.\"\"\"\n",
    "    unitless = float(quantity.args[0])\n",
    "    return unitless"
   ]
  },
  {
   "cell_type": "code",
   "execution_count": 38,
   "metadata": {
    "collapsed": true
   },
   "outputs": [],
   "source": [
    "# size of domain\n",
    "x_min = -20. * l0\n",
    "x_max = 12. * l0 + x_min\n",
    "y_min = -9. * l0\n",
    "y_max = 9. * l0\n",
    "z_min = y_min\n",
    "z_max = y_max"
   ]
  },
  {
   "cell_type": "code",
   "execution_count": 87,
   "metadata": {},
   "outputs": [
    {
     "data": {
      "text/plain": [
       "[-100.0*micrometer,\n",
       " -40.0*micrometer,\n",
       " -45.0*micrometer,\n",
       " 45.0*micrometer,\n",
       " -45.0*micrometer,\n",
       " 45.0*micrometer]"
      ]
     },
     "execution_count": 87,
     "metadata": {},
     "output_type": "execute_result"
    }
   ],
   "source": [
    "[convert_to(edge, micrometer) for edge in (x_min, x_max, y_min, y_max, z_min, z_max)]"
   ]
  },
  {
   "cell_type": "code",
   "execution_count": 112,
   "metadata": {
    "collapsed": true
   },
   "outputs": [],
   "source": [
    "x = np.linspace(-100, 6.49238281e-04*1e6, 1024)\n",
    "y = np.linspace(-45, 45, 64)\n",
    "z = np.linspace(-45, 45, 64)"
   ]
  },
  {
   "cell_type": "code",
   "execution_count": null,
   "metadata": {
    "collapsed": true
   },
   "outputs": [],
   "source": [
    "-100, 6.49238281e-04*1e6"
   ]
  },
  {
   "cell_type": "code",
   "execution_count": 58,
   "metadata": {
    "collapsed": true
   },
   "outputs": [],
   "source": [
    "import numpy as np"
   ]
  },
  {
   "cell_type": "code",
   "execution_count": 59,
   "metadata": {
    "collapsed": true
   },
   "outputs": [],
   "source": [
    "density_unit = convert_to(rho0, meter**3).n() "
   ]
  },
  {
   "cell_type": "code",
   "execution_count": 60,
   "metadata": {
    "collapsed": true
   },
   "outputs": [],
   "source": [
    "du = float(density_unit.args[0])"
   ]
  },
  {
   "cell_type": "code",
   "execution_count": 63,
   "metadata": {
    "collapsed": true
   },
   "outputs": [],
   "source": [
    "density = np.ones((1024, 64, 64)) * du"
   ]
  },
  {
   "cell_type": "code",
   "execution_count": 65,
   "metadata": {
    "collapsed": true
   },
   "outputs": [],
   "source": [
    "# if function used in EPOCH input file\n",
    "iff = lambda a, b, c: b if a else c"
   ]
  },
  {
   "cell_type": "code",
   "execution_count": 97,
   "metadata": {
    "collapsed": true
   },
   "outputs": [],
   "source": [
    "l0_mu = get_float_value(convert_to(l0, micrometer))"
   ]
  },
  {
   "cell_type": "code",
   "execution_count": 99,
   "metadata": {
    "collapsed": true
   },
   "outputs": [],
   "source": [
    "cos_term = ( 1 + np.cos(x * np.pi / 20. / l0_mu) ) / 2."
   ]
  },
  {
   "cell_type": "code",
   "execution_count": 106,
   "metadata": {
    "collapsed": true
   },
   "outputs": [],
   "source": [
    "import matplotlib.pyplot as plt"
   ]
  },
  {
   "cell_type": "code",
   "execution_count": 108,
   "metadata": {
    "collapsed": true
   },
   "outputs": [],
   "source": [
    "%matplotlib inline"
   ]
  },
  {
   "cell_type": "code",
   "execution_count": 111,
   "metadata": {},
   "outputs": [
    {
     "data": {
      "text/plain": [
       "649.2382809999999"
      ]
     },
     "execution_count": 111,
     "metadata": {},
     "output_type": "execute_result"
    }
   ],
   "source": []
  },
  {
   "cell_type": "code",
   "execution_count": 109,
   "metadata": {},
   "outputs": [
    {
     "data": {
      "text/plain": [
       "[<matplotlib.lines.Line2D at 0x7f66e2ca7cf8>]"
      ]
     },
     "execution_count": 109,
     "metadata": {},
     "output_type": "execute_result"
    },
    {
     "data": {
      "image/png": "[encoded data removed]",
      "text/plain": [
       "<matplotlib.figure.Figure at 0x7f66e2d20a20>"
      ]
     },
     "metadata": {},
     "output_type": "display_data"
    }
   ],
   "source": [
    "plt.plot(x, cos_term)"
   ]
  },
  {
   "cell_type": "code",
   "execution_count": 110,
   "metadata": {},
   "outputs": [
    {
     "data": {
      "text/plain": [
       "-100.0"
      ]
     },
     "execution_count": 110,
     "metadata": {},
     "output_type": "execute_result"
    }
   ],
   "source": [
    "-20. * l0_mu"
   ]
  },
  {
   "cell_type": "code",
   "execution_count": 113,
   "metadata": {},
   "outputs": [
    {
     "data": {
      "text/plain": [
       "44.5"
      ]
     },
     "execution_count": 113,
     "metadata": {},
     "output_type": "execute_result"
    }
   ],
   "source": [
    "8.9 * l0_mu"
   ]
  },
  {
   "cell_type": "code",
   "execution_count": null,
   "metadata": {
    "collapsed": true
   },
   "outputs": [],
   "source": [
    "density = density(ele) * iff(x > 0., 1., iff(x > -20. * l0, cos_term, 0.) )"
   ]
  },
  {
   "cell_type": "code",
   "execution_count": 46,
   "metadata": {},
   "outputs": [
    {
     "ename": "SyntaxError",
     "evalue": "invalid syntax (<ipython-input-46-477e4af48db1>, line 2)",
     "output_type": "error",
     "traceback": [
      "\u001b[0;36m  File \u001b[0;32m\"<ipython-input-46-477e4af48db1>\"\u001b[0;36m, line \u001b[0;32m2\u001b[0m\n\u001b[0;31m    density = density(ele) * if(x gt 0., 1., if(x gt -20.*plasma_skin_depth, (1+cos(x * pi / 20./plasma_skin_depth))/2., 0.))\u001b[0m\n\u001b[0m                              ^\u001b[0m\n\u001b[0;31mSyntaxError\u001b[0m\u001b[0;31m:\u001b[0m invalid syntax\n"
     ]
    }
   ],
   "source": [
    "density = iff((abs(y) > 8.9 * l0) or (abs(z) > 8.9 * l0), 0., density(ele))"
   ]
  },
  {
   "cell_type": "code",
   "execution_count": null,
   "metadata": {
    "collapsed": true
   },
   "outputs": [],
   "source": [
    "# time"
   ]
  }
 ],
 "metadata": {
  "kernelspec": {
   "display_name": "Python 3",
   "language": "python",
   "name": "python3"
  },
  "language_info": {
   "codemirror_mode": {
    "name": "ipython",
    "version": 3
   },
   "file_extension": ".py",
   "mimetype": "text/x-python",
   "name": "python",
   "nbconvert_exporter": "python",
   "pygments_lexer": "ipython3",
   "version": "3.6.4"
  }
 },
 "nbformat": 4,
 "nbformat_minor": 2
}
