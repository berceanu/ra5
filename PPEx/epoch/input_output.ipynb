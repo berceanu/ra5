{
 "cells": [
  {
   "cell_type": "code",
   "execution_count": 1,
   "metadata": {
    "attributes": {
     "classes": [],
     "id": "",
     "n": "1"
    }
   },
   "outputs": [],
   "source": [
    "%matplotlib inline\n",
    "import matplotlib.pyplot as plt\n",
    "import numpy as np\n",
    "import pint\n",
    "import utilities as util\n",
    "import deck_classes as dc"
   ]
  },
  {
   "cell_type": "code",
   "execution_count": 2,
   "metadata": {
    "attributes": {
     "classes": [],
     "id": "",
     "n": "2"
    }
   },
   "outputs": [],
   "source": [
    "ureg = pint.UnitRegistry()\n",
    "ureg.load_definitions('./units/lwfa_def.txt')"
   ]
  },
  {
   "cell_type": "code",
   "execution_count": 3,
   "metadata": {
    "attributes": {
     "classes": [],
     "id": "",
     "n": "3"
    }
   },
   "outputs": [],
   "source": [
    "# parameters from EPOCH input file\n",
    "\n",
    "# lengths in micrometers\n",
    "# times in femtoseconds\n",
    "# densities in 1/cm**3\n",
    "\n",
    "# plasma up ramp length\n",
    "url = 100 * ureg.micrometer\n",
    "# plasma flat-top length\n",
    "ftl = 2450 * ureg.micrometer\n",
    "# plasma skin depth\n",
    "psd = 2.6575 * ureg.micrometer\n",
    "\n",
    "# grid resolution\n",
    "cells_x = 1024\n",
    "cells_y = 96\n",
    "cells_z = 96\n",
    "\n",
    "# moving box limits\n",
    "x_min = -100 * ureg.micrometer\n",
    "x_max = -50 * ureg.micrometer\n",
    "#\n",
    "y_min = -400 * ureg.micrometer\n",
    "y_max =  400 * ureg.micrometer\n",
    "#\n",
    "z_min = -400 * ureg.micrometer\n",
    "z_max =  400 * ureg.micrometer\n",
    "\n",
    "# speed of the window\n",
    "window_v_x =   0.29919287308 * ureg.micrometer/ureg.femtosecond\n",
    "# time at which the window should start moving\n",
    "window_start_time =  166.78204759999997 * ureg.femtosecond\n",
    "\n",
    "# final simulation time\n",
    "t_end =  9041.7551465 * ureg.femtosecond"
   ]
  },
  {
   "cell_type": "code",
   "execution_count": 4,
   "metadata": {
    "attributes": {
     "classes": [],
     "id": "",
     "n": "4"
    }
   },
   "outputs": [],
   "source": [
    "p_min = dc.Point(x_min, y_min, z_min)\n",
    "p_max = dc.Point(x_max, y_max, z_max)\n",
    "\n",
    "shape = (cells_x, cells_y, cells_z)\n",
    "ncells = dc.NrGridPoints(*shape)\n",
    "winprop = dc.WindowProp(window_v_x, window_start_time, t_end)\n",
    "\n",
    "mw = dc.MovingWindow(winprop, p_min, p_max, ncells)\n",
    "dom = dc.Domain(mw)\n",
    "preplasma = dc.Plasma(psd, url, ftl)\n",
    "electron = dc.Species(dom, preplasma, 1e-3)"
   ]
  },
  {
   "cell_type": "code",
   "execution_count": 5,
   "metadata": {
    "attributes": {
     "classes": [],
     "id": "",
     "n": "5"
    }
   },
   "outputs": [
    {
     "data": {
      "image/png": "[encoded data removed]",
      "text/plain": [
       "<matplotlib.figure.Figure at 0x7f3d36abd438>"
      ]
     },
     "metadata": {},
     "output_type": "display_data"
    }
   ],
   "source": [
    "pm = {'cmap':'viridis', 'xlabel':r'$x$ ($\\mu$m)', 'ylabel':r'$y$ ($\\mu$m)', 'zlabel':r'$\\rho$ (cm$^{-3}$)', 'cbar':False}\n",
    "so = {'ls': '--', 'color': '0.5'}\n",
    "fig = util.plot2d_wslice(np.sum(electron.rho, axis=2), dom.box.x, dom.box.y, pm, so)"
   ]
  },
  {
   "cell_type": "code",
   "execution_count": 6,
   "metadata": {
    "attributes": {
     "classes": [],
     "id": "",
     "n": "6"
    }
   },
   "outputs": [
    {
     "data": {
      "image/png": "[encoded data removed]",
      "text/plain": [
       "<matplotlib.figure.Figure at 0x7f3d2955f438>"
      ]
     },
     "metadata": {},
     "output_type": "display_data"
    }
   ],
   "source": [
    "fig, ax = plt.subplots(figsize=(8, 3.2))\n",
    "xr = dom.box.x[-1]\n",
    "pm = {'xlim_left':(-preplasma.url.magnitude, 0 + 50), 'xlim_right':(preplasma.ftl.magnitude - 50, preplasma.url.magnitude + preplasma.ftl.magnitude), 'xlabel':r'$x$ ($\\mu$m)', 'ylabel':r'$\\rho$ (cm$^{-3}$)'}\n",
    "so = {'ls': '--', 'color': '0.5'}\n",
    "r = np.sum(electron.rho, axis=2)\n",
    "i = r.shape[0]//2\n",
    "util.plot1d_break_x(fig, dom.box.x, r[i], pm, so)\n",
    "ax.axvspan(mw.box.x[0], mw.box.x[-1], alpha = 0.2, color='red');"
   ]
  },
  {
   "cell_type": "code",
   "execution_count": null,
   "metadata": {},
   "outputs": [],
   "source": [
    "# laser parameters\n",
    "# laser strength parameter\n",
    "laser_a0 = 3.\n",
    "laser_wavelength = 0.8 * micrometer   # ^^^\n",
    "laser_omega = 2 * pi * c / laser_wavelength # ras/s\n",
    "laser_frequency = laser_omega / (2*pi)\n",
    "# waist at focus\n",
    "laser_waist = 20 * micrometer\n",
    "laser_duration = 20 * fs\n",
    "# amplitude of the electric field\n",
    "laser_amp = laser_a0 * laser_omega * (me * c / qe)\n",
    "laser_intensity = (c * e0) / 2 * laser_amp**2\n",
    "laser_power = laser_intensity * (pi * laser_waist**2 / 2)\n",
    "laser_energy = laser_power * laser_duration"
   ]
  },
  {
   "cell_type": "code",
   "execution_count": null,
   "metadata": {},
   "outputs": [],
   "source": [
    "print('f = ', convert_to(laser_frequency, terahertz).n())\n",
    "print('w_0 = ', convert_to(laser_waist, micrometer))\n",
    "print('E_L = ', convert_to(laser_amp, teravolt/meter).n())\n",
    "print('I = ', convert_to(laser_intensity, watt/centimeter**2).n())\n",
    "print('P = ', convert_to(laser_power, terawatt).n())\n",
    "print('tau_0 = ', convert_to(laser_duration, femtosecond))\n",
    "print('E = ', convert_to(laser_energy, joule).n())\n",
    "print('lambda = ', convert_to(laser_wavelength, nanometer))"
   ]
  }
 ],
 "metadata": {},
 "nbformat": 4,
 "nbformat_minor": 2
}
