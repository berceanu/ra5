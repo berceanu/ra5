{
 "cells": [
  {
   "cell_type": "markdown",
   "metadata": {},
   "source": [
    "This is a [Jupyter Notebook](https://youtu.be/HW29067qVWk). Code is organized\n",
    "into cells, which can be of two main types: containing [Markdown\n",
    "text](https://nbviewer.jupyter.org/github/jupyter/notebook/blob/master/docs/source/examples/Notebook/Working%20With%20Markdown%20Cells.ipynb)\n",
    "(including LaTeX formulas) or [Python](http://www.diveintopython3.net/) code.\n",
    "Each cell can be interactively evaluated by selecting it and pressing `Shift +\n",
    "Enter`, similar to a `Mathematica` notebook.\n",
    "\n",
    "# Statement of the problem\n",
    "\n",
    "### Original email from Madalin\n",
    "\n",
    "I tried to reproduce the exclusion plot from\n",
    "Kensuke's\n",
    "paper by plugging in the lasers parameters from [Search for sub-eV\n",
    "scalar and pseudoscalar resonances via four-wave mixing with a laser\n",
    "collider](https://doi.org/10.1093/ptep/ptv101),\n",
    "with the aim of then repeating\n",
    "the same thing for the E4 laser\n",
    "parameters. I got stuck at estimating the number\n",
    "of photons expected.\n",
    "\n",
    "I feel the need of being able to understand the four wave\n",
    "mixing process (to be\n",
    "tested at E4) locally, in our theory group and make\n",
    "estimations for signal\n",
    "expectations and detection optimization.  \n",
    "\n",
    "A first step\n",
    "would be to reproduce numerically the results from the paper\n",
    "and then dive into\n",
    "the theory.\n",
    "\n",
    "### Import needed libraries\n",
    "\n",
    "For linear algebra, use `numpy`. See [NumPy\n",
    "tutorial](http://www.labri.fr/perso/nrougier/teaching/numpy/numpy.html) and\n",
    "[NumPy for Matlab users](https://docs.scipy.org/doc/numpy-dev/user/numpy-for-\n",
    "matlab-users.html)."
   ]
  },
  {
   "cell_type": "code",
   "execution_count": 111,
   "metadata": {
    "attributes": {
     "classes": [],
     "id": "",
     "n": "111"
    }
   },
   "outputs": [],
   "source": [
    "import numpy as np"
   ]
  },
  {
   "cell_type": "markdown",
   "metadata": {},
   "source": [
    "For plotting, use `matplotlib`. See [matplotlib\n",
    "tutorial](http://www.labri.fr/perso/nrougier/teaching/matplotlib/matplotlib.html)."
   ]
  },
  {
   "cell_type": "code",
   "execution_count": 11,
   "metadata": {
    "attributes": {
     "classes": [],
     "id": "",
     "n": "11"
    }
   },
   "outputs": [],
   "source": [
    "import matplotlib.pyplot as plt"
   ]
  },
  {
   "cell_type": "markdown",
   "metadata": {},
   "source": [
    "Import used functions and constants from the `math` library."
   ]
  },
  {
   "cell_type": "code",
   "execution_count": 66,
   "metadata": {
    "attributes": {
     "classes": [],
     "id": "",
     "n": "66"
    }
   },
   "outputs": [],
   "source": [
    "from math import pi, atan, sqrt"
   ]
  },
  {
   "cell_type": "markdown",
   "metadata": {},
   "source": [
    "##  The Estimation w.r.t. the Coupling of Dark Matter Candidates\n",
    "\n",
    "Goal: To understand Eq.(8) + Fig.10 & Fig.11 in [Search for sub-eV scalar and\n",
    "pseudoscalar resonances via four-wave mixing with a laser\n",
    "collider](https://doi.org/10.1093/ptep/ptv101)."
   ]
  },
  {
   "cell_type": "code",
   "execution_count": 14,
   "metadata": {
    "attributes": {
     "classes": [],
     "id": "",
     "n": "14"
    }
   },
   "outputs": [],
   "source": [
    "# Physical parameters\n",
    "hbar_J = 1.054571800 * 10**(-34)      # Planck's constant/(2*pi) (J*sec)\n",
    "hbar_eV = 6.582119514 * 10**(-16)     # Planck's constant/(2*pi) (eV*sec)\n",
    "c = 299792458                      # Speed of light (m/sec)"
   ]
  },
  {
   "cell_type": "markdown",
   "metadata": {},
   "source": [
    "Note Python uses `**` instead of `^` for power operator. Also, there are no `;`\n",
    "at the end of lines and comments start with `#`."
   ]
  },
  {
   "cell_type": "code",
   "execution_count": 16,
   "metadata": {
    "attributes": {
     "classes": [],
     "id": "",
     "n": "16"
    }
   },
   "outputs": [],
   "source": [
    "# From Table 2\n",
    "lambda_c = 800 * 10**(-9)      # Center of wavelength of creation laser Éc (m)\n",
    "lambda_i = 1064 * 10**(-9)     # Center of wavelength of inducing laser Éi (m)\n",
    "D_c = 7.5 * 10**(-3)           # Relative line width of creation laser (ÂÖ/ Ö)\n",
    "D_i = 1.0 * 10**(-4)           # Relative line width of inducing laser\n",
    "tau_c = 900 * 10**(-15)        # Duration time of creation laser pulse per injection Ñc (sec)\n",
    "tau_i = 9 * 10**(-9)           # Duration time of inducing laser pulse per injection Ñi (sec)\n",
    "E_c = 9.3 * 10**(-6)           # Creation laser energy per Ñc (J)\n",
    "E_i = 100 * 10**(-6)           # Inducing laser energy per Ñi (J)\n",
    "f = 200 * 10**(-3)             # Focal length f (m)\n",
    "d = 20 * 10**(-3)              # Beam diameter of laser beams d (m)\n",
    "# Upper mass range given by Æ < Æ\n",
    "u = 0.75            # u = Ö4/Ö\n",
    "G_sc11 = 19/32      # Incident plane rotation factor Gsc\n",
    "G_ps12 = 1/2        # Incident plane rotation factor Gps\n",
    "F_sc1122 = 19.4     # Axially asymmetric factor Fs sc\n",
    "F_ps1212 = 19.2     # Axially asymmetric factor Fs ps\n",
    "C_mb = 1/2          # Combinatorial factor in luminosity Cmb\n",
    "Ep_D = 1.4          # Single-photon detection efficiency  D\n",
    "Ep_opt1 = 0.5       # Efficiency of optical path from interaction point to Path{1} \u000fopt1\n",
    "Ep_opt2 = 0.9       # Efficiency of optical path from interaction point to Path{2}  opt2\n",
    "dN_S1 = 2.2         # ÂNS1\n",
    "dN_S2 = 4.4         # ÂNS2"
   ]
  },
  {
   "cell_type": "markdown",
   "metadata": {},
   "source": [
    "Some characters in the comments might note be visible due to missing Japanese\n",
    "fonts."
   ]
  },
  {
   "cell_type": "code",
   "execution_count": 18,
   "metadata": {
    "attributes": {
     "classes": [],
     "id": "",
     "n": "18"
    }
   },
   "outputs": [],
   "source": [
    "# From Table 1\n",
    "W_S = 46120         # Number of events"
   ]
  },
  {
   "cell_type": "code",
   "execution_count": 19,
   "metadata": {
    "attributes": {
     "classes": [],
     "id": "",
     "n": "19"
    }
   },
   "outputs": [],
   "source": [
    "# From Eq.(15)\n",
    "Y_sc = (2.24 * dN_S2) / (Ep_opt2 * Ep_D * W_S)\n",
    "Y_ps = (2.24 * dN_S1) / (Ep_opt1 * Ep_D * W_S)"
   ]
  },
  {
   "cell_type": "code",
   "execution_count": 22,
   "metadata": {
    "attributes": {
     "classes": [],
     "id": "",
     "n": "22"
    }
   },
   "outputs": [],
   "source": [
    "# no. of photons in Lasers\n",
    "N_c = E_c / ( 2 * pi* hbar_J * c / lambda_c )\n",
    "N_i = E_i / ( 2 * pi* hbar_J * c / lambda_i )"
   ]
  },
  {
   "cell_type": "code",
   "execution_count": 33,
   "metadata": {
    "attributes": {
     "classes": [],
     "id": "",
     "n": "33"
    }
   },
   "outputs": [],
   "source": [
    "# Eq.(8)\n",
    "f1 = lambda_c / (c * tau_c)\n",
    "f2 = tau_c / tau_i\n",
    "f3 = (f / d)**3\n",
    "f4 = atan( pi * d**2 / (4 * f * lambda_c ) )"
   ]
  },
  {
   "cell_type": "markdown",
   "metadata": {},
   "source": [
    "Definitions from [Sensitivity to dark energy candidates by searching for four-\n",
    "wave mixing of high-intensity lasers in the\n",
    "vacuum](https://doi.org/10.1093/ptep/pts073)."
   ]
  },
  {
   "cell_type": "code",
   "execution_count": 34,
   "metadata": {
    "attributes": {
     "classes": [],
     "id": "",
     "n": "34"
    }
   },
   "outputs": [],
   "source": [
    "u_up = u * (1 + D_i)\n",
    "u_down = u * (1 - D_i)"
   ]
  },
  {
   "cell_type": "code",
   "execution_count": 35,
   "metadata": {
    "attributes": {
     "classes": [],
     "id": "",
     "n": "35"
    }
   },
   "outputs": [],
   "source": [
    "f5 = (u_up-u_down)**2 / (u_up * u_down)"
   ]
  },
  {
   "cell_type": "code",
   "execution_count": 36,
   "metadata": {
    "attributes": {
     "classes": [],
     "id": "",
     "n": "36"
    }
   },
   "outputs": [],
   "source": [
    "W = pi/2\n",
    "Omega = 2 * pi* hbar_eV * c/lambda_c"
   ]
  },
  {
   "cell_type": "code",
   "execution_count": 81,
   "metadata": {
    "attributes": {
     "classes": [],
     "id": "",
     "n": "81"
    }
   },
   "outputs": [],
   "source": [
    "x_max = 1000\n",
    "m = np.linspace(start=0.15/x_max, stop=0.15, num=x_max, endpoint=True)"
   ]
  },
  {
   "cell_type": "markdown",
   "metadata": {},
   "source": [
    "Return evenly spaced numbers over a specified interval. See `np.linspace?` for\n",
    "help."
   ]
  },
  {
   "cell_type": "code",
   "execution_count": 63,
   "metadata": {
    "attributes": {
     "classes": [],
     "id": "",
     "n": "63"
    }
   },
   "outputs": [],
   "source": [
    "# Scalar field\n",
    "G_over_M_sc = Y_sc * Omega**3 / ( f1 * f2 * f3 * f4 * f5 * W * G_sc11 * F_sc1122 * C_mb * N_c**2 * N_i )\n",
    "G_over_M_sc = 2**(1/4) * 8 * pi**2 * sqrt( G_over_M_sc )\n",
    "G_over_M_sc = G_over_M_sc * m**(-5/2)"
   ]
  },
  {
   "cell_type": "markdown",
   "metadata": {},
   "source": [
    "Operations like `m**(-5/2)` are automatically applied to every element of the\n",
    "array `m`."
   ]
  },
  {
   "cell_type": "code",
   "execution_count": 78,
   "metadata": {
    "attributes": {
     "classes": [],
     "id": "",
     "n": "78"
    }
   },
   "outputs": [],
   "source": [
    "# Pseudo-scalar field\n",
    "G_over_M_ps = Y_ps * Omega**3 / ( f1 * f2 * f3 * f4 * f5 * W * G_ps12 * F_ps1212 * C_mb * N_c**2 * N_i )\n",
    "G_over_M_ps = 2**(1/4) * 8 * pi**2 * sqrt( G_over_M_ps )\n",
    "G_over_M_ps = G_over_M_ps * m**(-5/2)"
   ]
  },
  {
   "cell_type": "code",
   "execution_count": 109,
   "metadata": {
    "attributes": {
     "classes": [],
     "id": "",
     "n": "109"
    }
   },
   "outputs": [
    {
     "data": {
      "image/png": "[encoded data removed]",
      "text/plain": [
       "<matplotlib.figure.Figure at 0x7efc9b085ac8>"
      ]
     },
     "metadata": {},
     "output_type": "display_data"
    }
   ],
   "source": [
    "# Figure ploting part\n",
    "plt.loglog(m, 10**9*G_over_M_sc,'-o', label='Scalar field')\n",
    "plt.loglog(m, 10**9*G_over_M_ps,'-s', label='Pseudo-scalar field')\n",
    "plt.xlabel('m [eV]')\n",
    "plt.ylabel('g/M [1/GeV]')\n",
    "plt.legend();"
   ]
  },
  {
   "cell_type": "markdown",
   "metadata": {},
   "source": [
    "`a[-1]` returns the last element of some array `a`. Below we also use `Python`'s\n",
    "[string formatting](https://pyformat.info/) capabilities."
   ]
  },
  {
   "cell_type": "code",
   "execution_count": 106,
   "metadata": {
    "attributes": {
     "classes": [],
     "id": "",
     "n": "106"
    }
   },
   "outputs": [
    {
     "name": "stdout",
     "output_type": "stream",
     "text": [
      "g/M = 2.406272707503095e-05 1/GeV at m = 0.15 eV for the scalar field.\n",
      "g/M = 2.5005362779402515e-05 1/GeV at m = 0.15 eV for the pseudo-scalar field.\n"
     ]
    }
   ],
   "source": [
    "print('g/M = {} 1/GeV at m = {} eV for the scalar field.'.format(10**9*G_over_M_sc[-1], m[-1]))\n",
    "print('g/M = {} 1/GeV at m = {} eV for the pseudo-scalar field.'.format(10**9*G_over_M_ps[-1], m[-1]))"
   ]
  },
  {
   "cell_type": "markdown",
   "metadata": {},
   "source": [
    "This is factor 20 different between the Kensuke's result, he might have\n",
    "implemented some secret correction.\n",
    "\n",
    "$$ \\frac{g}{M} = 2.4 \\times 10^{-5} \\, \\text{GeV}^{-1} \\quad \\text{at} \\quad m =\n",
    "0.15 \\, \\text{eV} $$\n",
    "Kensuke's suggestion:\n",
    "$$ \\frac{g}{M} = 5.42 \\times 10^{-4}\n",
    "\\, \\text{GeV}^{-1} $$"
   ]
  }
 ],
 "metadata": {},
 "nbformat": 4,
 "nbformat_minor": 2
}
