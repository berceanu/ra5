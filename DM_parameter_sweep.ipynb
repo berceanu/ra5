{
 "cells": [
  {
   "cell_type": "markdown",
   "metadata": {},
   "source": [
    "# Signal as a function of creation @ 1300 nm - fixed inducing"
   ]
  },
  {
   "cell_type": "code",
   "execution_count": 1,
   "metadata": {},
   "outputs": [],
   "source": [
    "import numpy as np"
   ]
  },
  {
   "cell_type": "code",
   "execution_count": 2,
   "metadata": {},
   "outputs": [],
   "source": [
    "inducing = 1300 * np.ones(100)"
   ]
  },
  {
   "cell_type": "code",
   "execution_count": 3,
   "metadata": {},
   "outputs": [
    {
     "data": {
      "text/plain": [
       "(100,)"
      ]
     },
     "execution_count": 3,
     "metadata": {},
     "output_type": "execute_result"
    }
   ],
   "source": [
    "inducing.shape"
   ]
  },
  {
   "cell_type": "code",
   "execution_count": 4,
   "metadata": {},
   "outputs": [
    {
     "data": {
      "text/plain": [
       "array([1300., 1300., 1300., 1300., 1300., 1300., 1300., 1300., 1300.,\n",
       "       1300., 1300., 1300., 1300., 1300., 1300., 1300., 1300., 1300.,\n",
       "       1300., 1300., 1300., 1300., 1300., 1300., 1300., 1300., 1300.,\n",
       "       1300., 1300., 1300., 1300., 1300., 1300., 1300., 1300., 1300.,\n",
       "       1300., 1300., 1300., 1300., 1300., 1300., 1300., 1300., 1300.,\n",
       "       1300., 1300., 1300., 1300., 1300., 1300., 1300., 1300., 1300.,\n",
       "       1300., 1300., 1300., 1300., 1300., 1300., 1300., 1300., 1300.,\n",
       "       1300., 1300., 1300., 1300., 1300., 1300., 1300., 1300., 1300.,\n",
       "       1300., 1300., 1300., 1300., 1300., 1300., 1300., 1300., 1300.,\n",
       "       1300., 1300., 1300., 1300., 1300., 1300., 1300., 1300., 1300.,\n",
       "       1300., 1300., 1300., 1300., 1300., 1300., 1300., 1300., 1300.,\n",
       "       1300.])"
      ]
     },
     "execution_count": 4,
     "metadata": {},
     "output_type": "execute_result"
    }
   ],
   "source": [
    "inducing"
   ]
  },
  {
   "cell_type": "code",
   "execution_count": 5,
   "metadata": {},
   "outputs": [],
   "source": [
    "creation = np.arange(400, 1400, 10)"
   ]
  },
  {
   "cell_type": "code",
   "execution_count": 6,
   "metadata": {},
   "outputs": [
    {
     "data": {
      "text/plain": [
       "(100,)"
      ]
     },
     "execution_count": 6,
     "metadata": {},
     "output_type": "execute_result"
    }
   ],
   "source": [
    "creation.shape"
   ]
  },
  {
   "cell_type": "code",
   "execution_count": 7,
   "metadata": {},
   "outputs": [
    {
     "data": {
      "text/plain": [
       "array([ 400,  410,  420,  430,  440,  450,  460,  470,  480,  490,  500,\n",
       "        510,  520,  530,  540,  550,  560,  570,  580,  590,  600,  610,\n",
       "        620,  630,  640,  650,  660,  670,  680,  690,  700,  710,  720,\n",
       "        730,  740,  750,  760,  770,  780,  790,  800,  810,  820,  830,\n",
       "        840,  850,  860,  870,  880,  890,  900,  910,  920,  930,  940,\n",
       "        950,  960,  970,  980,  990, 1000, 1010, 1020, 1030, 1040, 1050,\n",
       "       1060, 1070, 1080, 1090, 1100, 1110, 1120, 1130, 1140, 1150, 1160,\n",
       "       1170, 1180, 1190, 1200, 1210, 1220, 1230, 1240, 1250, 1260, 1270,\n",
       "       1280, 1290, 1300, 1310, 1320, 1330, 1340, 1350, 1360, 1370, 1380,\n",
       "       1390])"
      ]
     },
     "execution_count": 7,
     "metadata": {},
     "output_type": "execute_result"
    }
   ],
   "source": [
    "creation"
   ]
  },
  {
   "cell_type": "code",
   "execution_count": 8,
   "metadata": {},
   "outputs": [],
   "source": [
    "signal = (inducing * creation / 2) / (inducing - creation / 2)"
   ]
  },
  {
   "cell_type": "code",
   "execution_count": 9,
   "metadata": {},
   "outputs": [
    {
     "data": {
      "text/plain": [
       "(100,)"
      ]
     },
     "execution_count": 9,
     "metadata": {},
     "output_type": "execute_result"
    }
   ],
   "source": [
    "signal.shape"
   ]
  },
  {
   "cell_type": "code",
   "execution_count": 10,
   "metadata": {},
   "outputs": [
    {
     "data": {
      "text/plain": [
       "array([ 236.36363636,  243.37899543,  250.4587156 ,  257.60368664,\n",
       "        264.81481481,  272.09302326,  279.43925234,  286.85446009,\n",
       "        294.33962264,  301.8957346 ,  309.52380952,  317.22488038,\n",
       "        325.        ,  332.85024155,  340.77669903,  348.7804878 ,\n",
       "        356.8627451 ,  365.02463054,  373.26732673,  381.5920398 ,\n",
       "        390.        ,  398.49246231,  407.07070707,  415.73604061,\n",
       "        424.48979592,  433.33333333,  442.26804124,  451.29533679,\n",
       "        460.41666667,  469.63350785,  478.94736842,  488.35978836,\n",
       "        497.87234043,  507.48663102,  517.20430108,  527.02702703,\n",
       "        536.95652174,  546.99453552,  557.14285714,  567.40331492,\n",
       "        577.77777778,  588.26815642,  598.87640449,  609.60451977,\n",
       "        620.45454545,  631.42857143,  642.52873563,  653.75722543,\n",
       "        665.11627907,  676.60818713,  688.23529412,  700.        ,\n",
       "        711.9047619 ,  723.95209581,  736.14457831,  748.48484848,\n",
       "        760.97560976,  773.6196319 ,  786.41975309,  799.37888199,\n",
       "        812.5       ,  825.78616352,  839.24050633,  852.86624204,\n",
       "        866.66666667,  880.64516129,  894.80519481,  909.1503268 ,\n",
       "        923.68421053,  938.41059603,  953.33333333,  968.45637584,\n",
       "        983.78378378,  999.31972789, 1015.06849315, 1031.03448276,\n",
       "       1047.22222222, 1063.63636364, 1080.28169014, 1097.16312057,\n",
       "       1114.28571429, 1131.65467626, 1149.27536232, 1167.15328467,\n",
       "       1185.29411765, 1203.7037037 , 1222.3880597 , 1241.35338346,\n",
       "       1260.60606061, 1280.15267176, 1300.        , 1320.15503876,\n",
       "       1340.625     , 1361.41732283, 1382.53968254, 1404.        ,\n",
       "       1425.80645161, 1447.96747967, 1470.49180328, 1493.38842975])"
      ]
     },
     "execution_count": 10,
     "metadata": {},
     "output_type": "execute_result"
    }
   ],
   "source": [
    "signal"
   ]
  },
  {
   "cell_type": "code",
   "execution_count": 11,
   "metadata": {},
   "outputs": [],
   "source": [
    "# display plots in the notebook\n",
    "%matplotlib inline"
   ]
  },
  {
   "cell_type": "code",
   "execution_count": 12,
   "metadata": {},
   "outputs": [],
   "source": [
    "import matplotlib.pyplot as plt"
   ]
  },
  {
   "cell_type": "code",
   "execution_count": 13,
   "metadata": {},
   "outputs": [],
   "source": [
    "# larger figures\n",
    "plt.rcParams[\"figure.figsize\"] = (8,6)"
   ]
  },
  {
   "cell_type": "code",
   "execution_count": 14,
   "metadata": {},
   "outputs": [
    {
     "data": {
      "image/png": "[encoded data removed]",
      "text/plain": [
       "<Figure size 576x432 with 1 Axes>"
      ]
     },
     "metadata": {},
     "output_type": "display_data"
    }
   ],
   "source": [
    "plt.scatter(signal, creation)\n",
    "plt.xlabel('Signal (nm)')\n",
    "plt.ylabel('Creation (nm)')\n",
    "plt.title('Signal as a function of creation @ 1300 nm - fixed inducing')\n",
    "plt.grid()"
   ]
  },
  {
   "cell_type": "markdown",
   "metadata": {},
   "source": [
    "# Signal as a function of creation @ 1064 nm - fixed inducing"
   ]
  },
  {
   "cell_type": "markdown",
   "metadata": {},
   "source": [
    "Let's now create a function which takes the inducing wavelength as an input parameter and returns the `creation` and `signal`."
   ]
  },
  {
   "cell_type": "code",
   "execution_count": 15,
   "metadata": {},
   "outputs": [],
   "source": [
    "def creation_vs_signal(ind_lambda, points=100):\n",
    "    inducing = ind_lambda * np.ones(points)\n",
    "    creation = np.linspace(400, 1390, points)\n",
    "    c_2 = creation / 2\n",
    "    signal = (inducing * c_2) / (inducing - c_2)\n",
    "    return signal, creation, ind_lambda"
   ]
  },
  {
   "cell_type": "markdown",
   "metadata": {},
   "source": [
    "And another function that takes the output from `creation_vs_signal` and plots it."
   ]
  },
  {
   "cell_type": "code",
   "execution_count": 16,
   "metadata": {},
   "outputs": [],
   "source": [
    "def plot_creation_vs_signal(sig, cre, ind_lambda):\n",
    "    plt.scatter(sig, cre)\n",
    "    plt.xlabel('Signal (nm)')\n",
    "    plt.ylabel('Creation (nm)')\n",
    "    plt.title('Signal as a function of creation @ {} nm - fixed inducing'.format(ind_lambda))\n",
    "    plt.grid()"
   ]
  },
  {
   "cell_type": "markdown",
   "metadata": {},
   "source": [
    "We put the two functions together and do the plot @ 1064 nm."
   ]
  },
  {
   "cell_type": "code",
   "execution_count": 17,
   "metadata": {},
   "outputs": [
    {
     "data": {
      "image/png": "[encoded data removed]",
      "text/plain": [
       "<Figure size 576x432 with 1 Axes>"
      ]
     },
     "metadata": {},
     "output_type": "display_data"
    }
   ],
   "source": [
    "s, c, l = creation_vs_signal(1064)\n",
    "plot_creation_vs_signal(s, c, l)"
   ]
  },
  {
   "cell_type": "markdown",
   "metadata": {},
   "source": [
    "# We now want to plot both on the same graph."
   ]
  },
  {
   "cell_type": "code",
   "execution_count": 18,
   "metadata": {},
   "outputs": [],
   "source": [
    "s1, c1, l1 = creation_vs_signal(1300)\n",
    "s2, c2, l2 = creation_vs_signal(1064)"
   ]
  },
  {
   "cell_type": "code",
   "execution_count": 19,
   "metadata": {},
   "outputs": [
    {
     "data": {
      "image/png": "[encoded data removed]",
      "text/plain": [
       "<Figure size 576x432 with 1 Axes>"
      ]
     },
     "metadata": {},
     "output_type": "display_data"
    }
   ],
   "source": [
    "plt.scatter(s1, c1, color='red', label='Signal as a function of creation @ {} nm - fixed inducing'.format(l1))\n",
    "plt.scatter(s2, c2, color='green', label='Signal as a function of creation @ {} nm - fixed inducing'.format(l2))\n",
    "\n",
    "plt.xlabel('Signal (nm)')\n",
    "plt.ylabel('Creation (nm)')\n",
    "plt.legend()\n",
    "\n",
    "# let's add some fancy annotations\n",
    "\n",
    "# what the signal value when creation = 800 nm?\n",
    "wvlen = 800\n",
    "idx = np.where(c1 == wvlen)\n",
    "val = s1[idx]\n",
    "\n",
    "plt.annotate('{:07.3f}, {} @ {}'.format(val[0], wvlen, l1),\n",
    "             xy=(val, wvlen), xycoords='data',\n",
    "             xytext=(-90, 90), textcoords='offset points', fontsize=16,\n",
    "             arrowprops=dict(arrowstyle=\"->\", connectionstyle=\"arc3,rad=.2\"))\n",
    "\n",
    "# and now for 1064\n",
    "idx = np.where(c2 == wvlen)\n",
    "val = s2[idx]\n",
    "plt.annotate('{:07.3f}, {} @ {}'.format(val[0], wvlen, l2),\n",
    "             xy=(val, wvlen), xycoords='data',\n",
    "             xytext=(90, -50), textcoords='offset points', fontsize=16,\n",
    "             arrowprops=dict(arrowstyle=\"->\", connectionstyle=\"arc3,rad=.2\"));"
   ]
  },
  {
   "cell_type": "code",
   "execution_count": 20,
   "metadata": {},
   "outputs": [
    {
     "data": {
      "text/plain": [
       "array([577.77777778])"
      ]
     },
     "execution_count": 20,
     "metadata": {},
     "output_type": "execute_result"
    }
   ],
   "source": [
    "s1[np.where(c1 == 800)]"
   ]
  }
 ],
 "metadata": {
  "kernelspec": {
   "display_name": "Python 3",
   "language": "python",
   "name": "python3"
  },
  "language_info": {
   "codemirror_mode": {
    "name": "ipython",
    "version": 3
   },
   "file_extension": ".py",
   "mimetype": "text/x-python",
   "name": "python",
   "nbconvert_exporter": "python",
   "pygments_lexer": "ipython3",
   "version": "3.6.4"
  }
 },
 "nbformat": 4,
 "nbformat_minor": 2
}
